{
  "cells": [
    {
      "cell_type": "code",
      "execution_count": null,
      "metadata": {
        "id": "NuDNRsF4c234"
      },
      "outputs": [],
      "source": [
        "import pandas as pd"
      ]
    },
    {
      "cell_type": "code",
      "execution_count": null,
      "metadata": {
        "colab": {
          "base_uri": "https://localhost:8080/",
          "height": 313
        },
        "id": "K-KPPlbac71_",
        "outputId": "2da3de5d-2321-45e5-8982-f30ab3138876"
      },
      "outputs": [
        {
          "output_type": "execute_result",
          "data": {
            "text/plain": [
              "   media_foto  media_video  price  original_price  campaign  stock  \\\n",
              "0           2            1  14852           15970         0    915   \n",
              "1           3            0  77080           94000         1    837   \n",
              "2           2            0  63000           70000         0    849   \n",
              "3           2            0  55000           75000         0    948   \n",
              "4           2            0  55000           75000         0    948   \n",
              "\n",
              "       shop_badge  shop_rating  waktu_proses         Kategori  promo_cashback  \\\n",
              "0  Power Merchant          4.9           1.0  Snack & Camilan               0   \n",
              "1  Power Merchant          4.9           3.0          Makanan               1   \n",
              "2  Power Merchant          4.9           3.0          Makanan               1   \n",
              "3  Power Merchant          4.9           6.0          Makanan               1   \n",
              "4  Power Merchant          4.9           6.0          Makanan               1   \n",
              "\n",
              "   promo_diskon  promo_gratis_ongkir  discount  jam_buka  jam_tutup  Top10  \\\n",
              "0             0                    0  0.070006         0         24      1   \n",
              "1             0                    0  0.180000         8         17      1   \n",
              "2             0                    0  0.100000         8         17      1   \n",
              "3             0                    0  0.266667         9         16      1   \n",
              "4             0                    0  0.266667         9         16      0   \n",
              "\n",
              "   terjual  \n",
              "0      250  \n",
              "1      500  \n",
              "2      250  \n",
              "3      250  \n",
              "4      250  "
            ],
            "text/html": [
              "\n",
              "  <div id=\"df-012f3b6c-d7da-474d-8bea-d74722b9a56a\" class=\"colab-df-container\">\n",
              "    <div>\n",
              "<style scoped>\n",
              "    .dataframe tbody tr th:only-of-type {\n",
              "        vertical-align: middle;\n",
              "    }\n",
              "\n",
              "    .dataframe tbody tr th {\n",
              "        vertical-align: top;\n",
              "    }\n",
              "\n",
              "    .dataframe thead th {\n",
              "        text-align: right;\n",
              "    }\n",
              "</style>\n",
              "<table border=\"1\" class=\"dataframe\">\n",
              "  <thead>\n",
              "    <tr style=\"text-align: right;\">\n",
              "      <th></th>\n",
              "      <th>media_foto</th>\n",
              "      <th>media_video</th>\n",
              "      <th>price</th>\n",
              "      <th>original_price</th>\n",
              "      <th>campaign</th>\n",
              "      <th>stock</th>\n",
              "      <th>shop_badge</th>\n",
              "      <th>shop_rating</th>\n",
              "      <th>waktu_proses</th>\n",
              "      <th>Kategori</th>\n",
              "      <th>promo_cashback</th>\n",
              "      <th>promo_diskon</th>\n",
              "      <th>promo_gratis_ongkir</th>\n",
              "      <th>discount</th>\n",
              "      <th>jam_buka</th>\n",
              "      <th>jam_tutup</th>\n",
              "      <th>Top10</th>\n",
              "      <th>terjual</th>\n",
              "    </tr>\n",
              "  </thead>\n",
              "  <tbody>\n",
              "    <tr>\n",
              "      <th>0</th>\n",
              "      <td>2</td>\n",
              "      <td>1</td>\n",
              "      <td>14852</td>\n",
              "      <td>15970</td>\n",
              "      <td>0</td>\n",
              "      <td>915</td>\n",
              "      <td>Power Merchant</td>\n",
              "      <td>4.9</td>\n",
              "      <td>1.0</td>\n",
              "      <td>Snack &amp; Camilan</td>\n",
              "      <td>0</td>\n",
              "      <td>0</td>\n",
              "      <td>0</td>\n",
              "      <td>0.070006</td>\n",
              "      <td>0</td>\n",
              "      <td>24</td>\n",
              "      <td>1</td>\n",
              "      <td>250</td>\n",
              "    </tr>\n",
              "    <tr>\n",
              "      <th>1</th>\n",
              "      <td>3</td>\n",
              "      <td>0</td>\n",
              "      <td>77080</td>\n",
              "      <td>94000</td>\n",
              "      <td>1</td>\n",
              "      <td>837</td>\n",
              "      <td>Power Merchant</td>\n",
              "      <td>4.9</td>\n",
              "      <td>3.0</td>\n",
              "      <td>Makanan</td>\n",
              "      <td>1</td>\n",
              "      <td>0</td>\n",
              "      <td>0</td>\n",
              "      <td>0.180000</td>\n",
              "      <td>8</td>\n",
              "      <td>17</td>\n",
              "      <td>1</td>\n",
              "      <td>500</td>\n",
              "    </tr>\n",
              "    <tr>\n",
              "      <th>2</th>\n",
              "      <td>2</td>\n",
              "      <td>0</td>\n",
              "      <td>63000</td>\n",
              "      <td>70000</td>\n",
              "      <td>0</td>\n",
              "      <td>849</td>\n",
              "      <td>Power Merchant</td>\n",
              "      <td>4.9</td>\n",
              "      <td>3.0</td>\n",
              "      <td>Makanan</td>\n",
              "      <td>1</td>\n",
              "      <td>0</td>\n",
              "      <td>0</td>\n",
              "      <td>0.100000</td>\n",
              "      <td>8</td>\n",
              "      <td>17</td>\n",
              "      <td>1</td>\n",
              "      <td>250</td>\n",
              "    </tr>\n",
              "    <tr>\n",
              "      <th>3</th>\n",
              "      <td>2</td>\n",
              "      <td>0</td>\n",
              "      <td>55000</td>\n",
              "      <td>75000</td>\n",
              "      <td>0</td>\n",
              "      <td>948</td>\n",
              "      <td>Power Merchant</td>\n",
              "      <td>4.9</td>\n",
              "      <td>6.0</td>\n",
              "      <td>Makanan</td>\n",
              "      <td>1</td>\n",
              "      <td>0</td>\n",
              "      <td>0</td>\n",
              "      <td>0.266667</td>\n",
              "      <td>9</td>\n",
              "      <td>16</td>\n",
              "      <td>1</td>\n",
              "      <td>250</td>\n",
              "    </tr>\n",
              "    <tr>\n",
              "      <th>4</th>\n",
              "      <td>2</td>\n",
              "      <td>0</td>\n",
              "      <td>55000</td>\n",
              "      <td>75000</td>\n",
              "      <td>0</td>\n",
              "      <td>948</td>\n",
              "      <td>Power Merchant</td>\n",
              "      <td>4.9</td>\n",
              "      <td>6.0</td>\n",
              "      <td>Makanan</td>\n",
              "      <td>1</td>\n",
              "      <td>0</td>\n",
              "      <td>0</td>\n",
              "      <td>0.266667</td>\n",
              "      <td>9</td>\n",
              "      <td>16</td>\n",
              "      <td>0</td>\n",
              "      <td>250</td>\n",
              "    </tr>\n",
              "  </tbody>\n",
              "</table>\n",
              "</div>\n",
              "    <div class=\"colab-df-buttons\">\n",
              "\n",
              "  <div class=\"colab-df-container\">\n",
              "    <button class=\"colab-df-convert\" onclick=\"convertToInteractive('df-012f3b6c-d7da-474d-8bea-d74722b9a56a')\"\n",
              "            title=\"Convert this dataframe to an interactive table.\"\n",
              "            style=\"display:none;\">\n",
              "\n",
              "  <svg xmlns=\"http://www.w3.org/2000/svg\" height=\"24px\" viewBox=\"0 -960 960 960\">\n",
              "    <path d=\"M120-120v-720h720v720H120Zm60-500h600v-160H180v160Zm220 220h160v-160H400v160Zm0 220h160v-160H400v160ZM180-400h160v-160H180v160Zm440 0h160v-160H620v160ZM180-180h160v-160H180v160Zm440 0h160v-160H620v160Z\"/>\n",
              "  </svg>\n",
              "    </button>\n",
              "\n",
              "  <style>\n",
              "    .colab-df-container {\n",
              "      display:flex;\n",
              "      gap: 12px;\n",
              "    }\n",
              "\n",
              "    .colab-df-convert {\n",
              "      background-color: #E8F0FE;\n",
              "      border: none;\n",
              "      border-radius: 50%;\n",
              "      cursor: pointer;\n",
              "      display: none;\n",
              "      fill: #1967D2;\n",
              "      height: 32px;\n",
              "      padding: 0 0 0 0;\n",
              "      width: 32px;\n",
              "    }\n",
              "\n",
              "    .colab-df-convert:hover {\n",
              "      background-color: #E2EBFA;\n",
              "      box-shadow: 0px 1px 2px rgba(60, 64, 67, 0.3), 0px 1px 3px 1px rgba(60, 64, 67, 0.15);\n",
              "      fill: #174EA6;\n",
              "    }\n",
              "\n",
              "    .colab-df-buttons div {\n",
              "      margin-bottom: 4px;\n",
              "    }\n",
              "\n",
              "    [theme=dark] .colab-df-convert {\n",
              "      background-color: #3B4455;\n",
              "      fill: #D2E3FC;\n",
              "    }\n",
              "\n",
              "    [theme=dark] .colab-df-convert:hover {\n",
              "      background-color: #434B5C;\n",
              "      box-shadow: 0px 1px 3px 1px rgba(0, 0, 0, 0.15);\n",
              "      filter: drop-shadow(0px 1px 2px rgba(0, 0, 0, 0.3));\n",
              "      fill: #FFFFFF;\n",
              "    }\n",
              "  </style>\n",
              "\n",
              "    <script>\n",
              "      const buttonEl =\n",
              "        document.querySelector('#df-012f3b6c-d7da-474d-8bea-d74722b9a56a button.colab-df-convert');\n",
              "      buttonEl.style.display =\n",
              "        google.colab.kernel.accessAllowed ? 'block' : 'none';\n",
              "\n",
              "      async function convertToInteractive(key) {\n",
              "        const element = document.querySelector('#df-012f3b6c-d7da-474d-8bea-d74722b9a56a');\n",
              "        const dataTable =\n",
              "          await google.colab.kernel.invokeFunction('convertToInteractive',\n",
              "                                                    [key], {});\n",
              "        if (!dataTable) return;\n",
              "\n",
              "        const docLinkHtml = 'Like what you see? Visit the ' +\n",
              "          '<a target=\"_blank\" href=https://colab.research.google.com/notebooks/data_table.ipynb>data table notebook</a>'\n",
              "          + ' to learn more about interactive tables.';\n",
              "        element.innerHTML = '';\n",
              "        dataTable['output_type'] = 'display_data';\n",
              "        await google.colab.output.renderOutput(dataTable, element);\n",
              "        const docLink = document.createElement('div');\n",
              "        docLink.innerHTML = docLinkHtml;\n",
              "        element.appendChild(docLink);\n",
              "      }\n",
              "    </script>\n",
              "  </div>\n",
              "\n",
              "\n",
              "<div id=\"df-705f0c40-67db-4024-b96b-14068e36fbcd\">\n",
              "  <button class=\"colab-df-quickchart\" onclick=\"quickchart('df-705f0c40-67db-4024-b96b-14068e36fbcd')\"\n",
              "            title=\"Suggest charts\"\n",
              "            style=\"display:none;\">\n",
              "\n",
              "<svg xmlns=\"http://www.w3.org/2000/svg\" height=\"24px\"viewBox=\"0 0 24 24\"\n",
              "     width=\"24px\">\n",
              "    <g>\n",
              "        <path d=\"M19 3H5c-1.1 0-2 .9-2 2v14c0 1.1.9 2 2 2h14c1.1 0 2-.9 2-2V5c0-1.1-.9-2-2-2zM9 17H7v-7h2v7zm4 0h-2V7h2v10zm4 0h-2v-4h2v4z\"/>\n",
              "    </g>\n",
              "</svg>\n",
              "  </button>\n",
              "\n",
              "<style>\n",
              "  .colab-df-quickchart {\n",
              "      --bg-color: #E8F0FE;\n",
              "      --fill-color: #1967D2;\n",
              "      --hover-bg-color: #E2EBFA;\n",
              "      --hover-fill-color: #174EA6;\n",
              "      --disabled-fill-color: #AAA;\n",
              "      --disabled-bg-color: #DDD;\n",
              "  }\n",
              "\n",
              "  [theme=dark] .colab-df-quickchart {\n",
              "      --bg-color: #3B4455;\n",
              "      --fill-color: #D2E3FC;\n",
              "      --hover-bg-color: #434B5C;\n",
              "      --hover-fill-color: #FFFFFF;\n",
              "      --disabled-bg-color: #3B4455;\n",
              "      --disabled-fill-color: #666;\n",
              "  }\n",
              "\n",
              "  .colab-df-quickchart {\n",
              "    background-color: var(--bg-color);\n",
              "    border: none;\n",
              "    border-radius: 50%;\n",
              "    cursor: pointer;\n",
              "    display: none;\n",
              "    fill: var(--fill-color);\n",
              "    height: 32px;\n",
              "    padding: 0;\n",
              "    width: 32px;\n",
              "  }\n",
              "\n",
              "  .colab-df-quickchart:hover {\n",
              "    background-color: var(--hover-bg-color);\n",
              "    box-shadow: 0 1px 2px rgba(60, 64, 67, 0.3), 0 1px 3px 1px rgba(60, 64, 67, 0.15);\n",
              "    fill: var(--button-hover-fill-color);\n",
              "  }\n",
              "\n",
              "  .colab-df-quickchart-complete:disabled,\n",
              "  .colab-df-quickchart-complete:disabled:hover {\n",
              "    background-color: var(--disabled-bg-color);\n",
              "    fill: var(--disabled-fill-color);\n",
              "    box-shadow: none;\n",
              "  }\n",
              "\n",
              "  .colab-df-spinner {\n",
              "    border: 2px solid var(--fill-color);\n",
              "    border-color: transparent;\n",
              "    border-bottom-color: var(--fill-color);\n",
              "    animation:\n",
              "      spin 1s steps(1) infinite;\n",
              "  }\n",
              "\n",
              "  @keyframes spin {\n",
              "    0% {\n",
              "      border-color: transparent;\n",
              "      border-bottom-color: var(--fill-color);\n",
              "      border-left-color: var(--fill-color);\n",
              "    }\n",
              "    20% {\n",
              "      border-color: transparent;\n",
              "      border-left-color: var(--fill-color);\n",
              "      border-top-color: var(--fill-color);\n",
              "    }\n",
              "    30% {\n",
              "      border-color: transparent;\n",
              "      border-left-color: var(--fill-color);\n",
              "      border-top-color: var(--fill-color);\n",
              "      border-right-color: var(--fill-color);\n",
              "    }\n",
              "    40% {\n",
              "      border-color: transparent;\n",
              "      border-right-color: var(--fill-color);\n",
              "      border-top-color: var(--fill-color);\n",
              "    }\n",
              "    60% {\n",
              "      border-color: transparent;\n",
              "      border-right-color: var(--fill-color);\n",
              "    }\n",
              "    80% {\n",
              "      border-color: transparent;\n",
              "      border-right-color: var(--fill-color);\n",
              "      border-bottom-color: var(--fill-color);\n",
              "    }\n",
              "    90% {\n",
              "      border-color: transparent;\n",
              "      border-bottom-color: var(--fill-color);\n",
              "    }\n",
              "  }\n",
              "</style>\n",
              "\n",
              "  <script>\n",
              "    async function quickchart(key) {\n",
              "      const quickchartButtonEl =\n",
              "        document.querySelector('#' + key + ' button');\n",
              "      quickchartButtonEl.disabled = true;  // To prevent multiple clicks.\n",
              "      quickchartButtonEl.classList.add('colab-df-spinner');\n",
              "      try {\n",
              "        const charts = await google.colab.kernel.invokeFunction(\n",
              "            'suggestCharts', [key], {});\n",
              "      } catch (error) {\n",
              "        console.error('Error during call to suggestCharts:', error);\n",
              "      }\n",
              "      quickchartButtonEl.classList.remove('colab-df-spinner');\n",
              "      quickchartButtonEl.classList.add('colab-df-quickchart-complete');\n",
              "    }\n",
              "    (() => {\n",
              "      let quickchartButtonEl =\n",
              "        document.querySelector('#df-705f0c40-67db-4024-b96b-14068e36fbcd button');\n",
              "      quickchartButtonEl.style.display =\n",
              "        google.colab.kernel.accessAllowed ? 'block' : 'none';\n",
              "    })();\n",
              "  </script>\n",
              "</div>\n",
              "    </div>\n",
              "  </div>\n"
            ]
          },
          "metadata": {},
          "execution_count": 2
        }
      ],
      "source": [
        "df2 = pd.read_csv('fix.csv')\n",
        "df2.head()"
      ]
    },
    {
      "cell_type": "code",
      "execution_count": null,
      "metadata": {
        "colab": {
          "base_uri": "https://localhost:8080/"
        },
        "id": "m0E3ToAuc9mQ",
        "outputId": "c011adec-a6be-4b6b-9b26-d2d1e093a788"
      },
      "outputs": [
        {
          "output_type": "stream",
          "name": "stdout",
          "text": [
            "<class 'pandas.core.frame.DataFrame'>\n",
            "RangeIndex: 279 entries, 0 to 278\n",
            "Data columns (total 18 columns):\n",
            " #   Column               Non-Null Count  Dtype  \n",
            "---  ------               --------------  -----  \n",
            " 0   media_foto           279 non-null    int64  \n",
            " 1   media_video          279 non-null    int64  \n",
            " 2   price                279 non-null    int64  \n",
            " 3   original_price       279 non-null    int64  \n",
            " 4   campaign             279 non-null    int64  \n",
            " 5   stock                279 non-null    int64  \n",
            " 6   shop_badge           279 non-null    object \n",
            " 7   shop_rating          279 non-null    float64\n",
            " 8   waktu_proses         279 non-null    float64\n",
            " 9   Kategori             279 non-null    object \n",
            " 10  promo_cashback       279 non-null    int64  \n",
            " 11  promo_diskon         279 non-null    int64  \n",
            " 12  promo_gratis_ongkir  279 non-null    int64  \n",
            " 13  discount             279 non-null    float64\n",
            " 14  jam_buka             279 non-null    int64  \n",
            " 15  jam_tutup            279 non-null    int64  \n",
            " 16  Top10                279 non-null    int64  \n",
            " 17  terjual              279 non-null    int64  \n",
            "dtypes: float64(3), int64(13), object(2)\n",
            "memory usage: 39.4+ KB\n"
          ]
        }
      ],
      "source": [
        "df2.info()"
      ]
    },
    {
      "cell_type": "code",
      "source": [
        "import pandas as pd\n",
        "import numpy as np\n",
        "\n",
        "\n",
        "# fungsi resampling\n",
        "def bootstrap_resampling_all_columns(data, num_iterations=3):\n",
        "    num_samples = 279\n",
        "    bootstrap_samples = []\n",
        "\n",
        "    for _ in range(num_iterations):\n",
        "        bootstrap_sample = data.sample(n=num_samples, replace=True)\n",
        "        bootstrap_samples.append(bootstrap_sample)\n",
        "\n",
        "    return bootstrap_samples\n",
        "\n",
        "\n",
        "df2_data = df2.copy()\n",
        "bootstrap_samples_all_columns = bootstrap_resampling_all_columns(df2_data, num_iterations=3)\n",
        "df= pd.concat(bootstrap_samples_all_columns, ignore_index=True)\n",
        "\n",
        "print(\"Dataset setelah ditambahkan data hasil resampling:\")\n",
        "df.head()\n"
      ],
      "metadata": {
        "colab": {
          "base_uri": "https://localhost:8080/",
          "height": 330
        },
        "id": "ZAM4ouSqpLPF",
        "outputId": "3a169ace-029b-4861-c943-7322a73a45b6"
      },
      "execution_count": null,
      "outputs": [
        {
          "output_type": "stream",
          "name": "stdout",
          "text": [
            "Dataset setelah ditambahkan data hasil resampling:\n"
          ]
        },
        {
          "output_type": "execute_result",
          "data": {
            "text/plain": [
              "   media_foto  media_video   price  original_price  campaign  stock  \\\n",
              "0           1            0  155940          259900         0      8   \n",
              "1           1            0  259900          558000         0     39   \n",
              "2          10            0  107100          119000         1    587   \n",
              "3          13            0   16000           18300         1    136   \n",
              "4           1            0   19000          150000         0     99   \n",
              "\n",
              "       shop_badge  shop_rating  waktu_proses             Kategori  \\\n",
              "0  Official Store          4.8           9.0        Busana Wanita   \n",
              "1  Official Store          4.8           7.0          Busana Pria   \n",
              "2  Official Store          4.9           4.0      Perawatan Wajah   \n",
              "3  Official Store          4.9           8.0     Berbagai Minuman   \n",
              "4  Official Store          4.8           2.0  Kebutuhan Isi Rumah   \n",
              "\n",
              "   promo_cashback  promo_diskon  promo_gratis_ongkir  discount  jam_buka  \\\n",
              "0               1             0                    0  0.400000         9   \n",
              "1               1             0                    0  0.534229         9   \n",
              "2               1             1                    0  0.100000         8   \n",
              "3               1             1                    1  0.125683         9   \n",
              "4               1             0                    0  0.873333         0   \n",
              "\n",
              "   jam_tutup  Top10  terjual  \n",
              "0         17      0      250  \n",
              "1         17      0       25  \n",
              "2         17      0    10000  \n",
              "3         17      1     9000  \n",
              "4         24      1       50  "
            ],
            "text/html": [
              "\n",
              "  <div id=\"df-207ca85a-b7a9-4e71-9ab1-7e1205726391\" class=\"colab-df-container\">\n",
              "    <div>\n",
              "<style scoped>\n",
              "    .dataframe tbody tr th:only-of-type {\n",
              "        vertical-align: middle;\n",
              "    }\n",
              "\n",
              "    .dataframe tbody tr th {\n",
              "        vertical-align: top;\n",
              "    }\n",
              "\n",
              "    .dataframe thead th {\n",
              "        text-align: right;\n",
              "    }\n",
              "</style>\n",
              "<table border=\"1\" class=\"dataframe\">\n",
              "  <thead>\n",
              "    <tr style=\"text-align: right;\">\n",
              "      <th></th>\n",
              "      <th>media_foto</th>\n",
              "      <th>media_video</th>\n",
              "      <th>price</th>\n",
              "      <th>original_price</th>\n",
              "      <th>campaign</th>\n",
              "      <th>stock</th>\n",
              "      <th>shop_badge</th>\n",
              "      <th>shop_rating</th>\n",
              "      <th>waktu_proses</th>\n",
              "      <th>Kategori</th>\n",
              "      <th>promo_cashback</th>\n",
              "      <th>promo_diskon</th>\n",
              "      <th>promo_gratis_ongkir</th>\n",
              "      <th>discount</th>\n",
              "      <th>jam_buka</th>\n",
              "      <th>jam_tutup</th>\n",
              "      <th>Top10</th>\n",
              "      <th>terjual</th>\n",
              "    </tr>\n",
              "  </thead>\n",
              "  <tbody>\n",
              "    <tr>\n",
              "      <th>0</th>\n",
              "      <td>1</td>\n",
              "      <td>0</td>\n",
              "      <td>155940</td>\n",
              "      <td>259900</td>\n",
              "      <td>0</td>\n",
              "      <td>8</td>\n",
              "      <td>Official Store</td>\n",
              "      <td>4.8</td>\n",
              "      <td>9.0</td>\n",
              "      <td>Busana Wanita</td>\n",
              "      <td>1</td>\n",
              "      <td>0</td>\n",
              "      <td>0</td>\n",
              "      <td>0.400000</td>\n",
              "      <td>9</td>\n",
              "      <td>17</td>\n",
              "      <td>0</td>\n",
              "      <td>250</td>\n",
              "    </tr>\n",
              "    <tr>\n",
              "      <th>1</th>\n",
              "      <td>1</td>\n",
              "      <td>0</td>\n",
              "      <td>259900</td>\n",
              "      <td>558000</td>\n",
              "      <td>0</td>\n",
              "      <td>39</td>\n",
              "      <td>Official Store</td>\n",
              "      <td>4.8</td>\n",
              "      <td>7.0</td>\n",
              "      <td>Busana Pria</td>\n",
              "      <td>1</td>\n",
              "      <td>0</td>\n",
              "      <td>0</td>\n",
              "      <td>0.534229</td>\n",
              "      <td>9</td>\n",
              "      <td>17</td>\n",
              "      <td>0</td>\n",
              "      <td>25</td>\n",
              "    </tr>\n",
              "    <tr>\n",
              "      <th>2</th>\n",
              "      <td>10</td>\n",
              "      <td>0</td>\n",
              "      <td>107100</td>\n",
              "      <td>119000</td>\n",
              "      <td>1</td>\n",
              "      <td>587</td>\n",
              "      <td>Official Store</td>\n",
              "      <td>4.9</td>\n",
              "      <td>4.0</td>\n",
              "      <td>Perawatan Wajah</td>\n",
              "      <td>1</td>\n",
              "      <td>1</td>\n",
              "      <td>0</td>\n",
              "      <td>0.100000</td>\n",
              "      <td>8</td>\n",
              "      <td>17</td>\n",
              "      <td>0</td>\n",
              "      <td>10000</td>\n",
              "    </tr>\n",
              "    <tr>\n",
              "      <th>3</th>\n",
              "      <td>13</td>\n",
              "      <td>0</td>\n",
              "      <td>16000</td>\n",
              "      <td>18300</td>\n",
              "      <td>1</td>\n",
              "      <td>136</td>\n",
              "      <td>Official Store</td>\n",
              "      <td>4.9</td>\n",
              "      <td>8.0</td>\n",
              "      <td>Berbagai Minuman</td>\n",
              "      <td>1</td>\n",
              "      <td>1</td>\n",
              "      <td>1</td>\n",
              "      <td>0.125683</td>\n",
              "      <td>9</td>\n",
              "      <td>17</td>\n",
              "      <td>1</td>\n",
              "      <td>9000</td>\n",
              "    </tr>\n",
              "    <tr>\n",
              "      <th>4</th>\n",
              "      <td>1</td>\n",
              "      <td>0</td>\n",
              "      <td>19000</td>\n",
              "      <td>150000</td>\n",
              "      <td>0</td>\n",
              "      <td>99</td>\n",
              "      <td>Official Store</td>\n",
              "      <td>4.8</td>\n",
              "      <td>2.0</td>\n",
              "      <td>Kebutuhan Isi Rumah</td>\n",
              "      <td>1</td>\n",
              "      <td>0</td>\n",
              "      <td>0</td>\n",
              "      <td>0.873333</td>\n",
              "      <td>0</td>\n",
              "      <td>24</td>\n",
              "      <td>1</td>\n",
              "      <td>50</td>\n",
              "    </tr>\n",
              "  </tbody>\n",
              "</table>\n",
              "</div>\n",
              "    <div class=\"colab-df-buttons\">\n",
              "\n",
              "  <div class=\"colab-df-container\">\n",
              "    <button class=\"colab-df-convert\" onclick=\"convertToInteractive('df-207ca85a-b7a9-4e71-9ab1-7e1205726391')\"\n",
              "            title=\"Convert this dataframe to an interactive table.\"\n",
              "            style=\"display:none;\">\n",
              "\n",
              "  <svg xmlns=\"http://www.w3.org/2000/svg\" height=\"24px\" viewBox=\"0 -960 960 960\">\n",
              "    <path d=\"M120-120v-720h720v720H120Zm60-500h600v-160H180v160Zm220 220h160v-160H400v160Zm0 220h160v-160H400v160ZM180-400h160v-160H180v160Zm440 0h160v-160H620v160ZM180-180h160v-160H180v160Zm440 0h160v-160H620v160Z\"/>\n",
              "  </svg>\n",
              "    </button>\n",
              "\n",
              "  <style>\n",
              "    .colab-df-container {\n",
              "      display:flex;\n",
              "      gap: 12px;\n",
              "    }\n",
              "\n",
              "    .colab-df-convert {\n",
              "      background-color: #E8F0FE;\n",
              "      border: none;\n",
              "      border-radius: 50%;\n",
              "      cursor: pointer;\n",
              "      display: none;\n",
              "      fill: #1967D2;\n",
              "      height: 32px;\n",
              "      padding: 0 0 0 0;\n",
              "      width: 32px;\n",
              "    }\n",
              "\n",
              "    .colab-df-convert:hover {\n",
              "      background-color: #E2EBFA;\n",
              "      box-shadow: 0px 1px 2px rgba(60, 64, 67, 0.3), 0px 1px 3px 1px rgba(60, 64, 67, 0.15);\n",
              "      fill: #174EA6;\n",
              "    }\n",
              "\n",
              "    .colab-df-buttons div {\n",
              "      margin-bottom: 4px;\n",
              "    }\n",
              "\n",
              "    [theme=dark] .colab-df-convert {\n",
              "      background-color: #3B4455;\n",
              "      fill: #D2E3FC;\n",
              "    }\n",
              "\n",
              "    [theme=dark] .colab-df-convert:hover {\n",
              "      background-color: #434B5C;\n",
              "      box-shadow: 0px 1px 3px 1px rgba(0, 0, 0, 0.15);\n",
              "      filter: drop-shadow(0px 1px 2px rgba(0, 0, 0, 0.3));\n",
              "      fill: #FFFFFF;\n",
              "    }\n",
              "  </style>\n",
              "\n",
              "    <script>\n",
              "      const buttonEl =\n",
              "        document.querySelector('#df-207ca85a-b7a9-4e71-9ab1-7e1205726391 button.colab-df-convert');\n",
              "      buttonEl.style.display =\n",
              "        google.colab.kernel.accessAllowed ? 'block' : 'none';\n",
              "\n",
              "      async function convertToInteractive(key) {\n",
              "        const element = document.querySelector('#df-207ca85a-b7a9-4e71-9ab1-7e1205726391');\n",
              "        const dataTable =\n",
              "          await google.colab.kernel.invokeFunction('convertToInteractive',\n",
              "                                                    [key], {});\n",
              "        if (!dataTable) return;\n",
              "\n",
              "        const docLinkHtml = 'Like what you see? Visit the ' +\n",
              "          '<a target=\"_blank\" href=https://colab.research.google.com/notebooks/data_table.ipynb>data table notebook</a>'\n",
              "          + ' to learn more about interactive tables.';\n",
              "        element.innerHTML = '';\n",
              "        dataTable['output_type'] = 'display_data';\n",
              "        await google.colab.output.renderOutput(dataTable, element);\n",
              "        const docLink = document.createElement('div');\n",
              "        docLink.innerHTML = docLinkHtml;\n",
              "        element.appendChild(docLink);\n",
              "      }\n",
              "    </script>\n",
              "  </div>\n",
              "\n",
              "\n",
              "<div id=\"df-2a0a5cf9-0599-4918-ab11-23515ea081fc\">\n",
              "  <button class=\"colab-df-quickchart\" onclick=\"quickchart('df-2a0a5cf9-0599-4918-ab11-23515ea081fc')\"\n",
              "            title=\"Suggest charts\"\n",
              "            style=\"display:none;\">\n",
              "\n",
              "<svg xmlns=\"http://www.w3.org/2000/svg\" height=\"24px\"viewBox=\"0 0 24 24\"\n",
              "     width=\"24px\">\n",
              "    <g>\n",
              "        <path d=\"M19 3H5c-1.1 0-2 .9-2 2v14c0 1.1.9 2 2 2h14c1.1 0 2-.9 2-2V5c0-1.1-.9-2-2-2zM9 17H7v-7h2v7zm4 0h-2V7h2v10zm4 0h-2v-4h2v4z\"/>\n",
              "    </g>\n",
              "</svg>\n",
              "  </button>\n",
              "\n",
              "<style>\n",
              "  .colab-df-quickchart {\n",
              "      --bg-color: #E8F0FE;\n",
              "      --fill-color: #1967D2;\n",
              "      --hover-bg-color: #E2EBFA;\n",
              "      --hover-fill-color: #174EA6;\n",
              "      --disabled-fill-color: #AAA;\n",
              "      --disabled-bg-color: #DDD;\n",
              "  }\n",
              "\n",
              "  [theme=dark] .colab-df-quickchart {\n",
              "      --bg-color: #3B4455;\n",
              "      --fill-color: #D2E3FC;\n",
              "      --hover-bg-color: #434B5C;\n",
              "      --hover-fill-color: #FFFFFF;\n",
              "      --disabled-bg-color: #3B4455;\n",
              "      --disabled-fill-color: #666;\n",
              "  }\n",
              "\n",
              "  .colab-df-quickchart {\n",
              "    background-color: var(--bg-color);\n",
              "    border: none;\n",
              "    border-radius: 50%;\n",
              "    cursor: pointer;\n",
              "    display: none;\n",
              "    fill: var(--fill-color);\n",
              "    height: 32px;\n",
              "    padding: 0;\n",
              "    width: 32px;\n",
              "  }\n",
              "\n",
              "  .colab-df-quickchart:hover {\n",
              "    background-color: var(--hover-bg-color);\n",
              "    box-shadow: 0 1px 2px rgba(60, 64, 67, 0.3), 0 1px 3px 1px rgba(60, 64, 67, 0.15);\n",
              "    fill: var(--button-hover-fill-color);\n",
              "  }\n",
              "\n",
              "  .colab-df-quickchart-complete:disabled,\n",
              "  .colab-df-quickchart-complete:disabled:hover {\n",
              "    background-color: var(--disabled-bg-color);\n",
              "    fill: var(--disabled-fill-color);\n",
              "    box-shadow: none;\n",
              "  }\n",
              "\n",
              "  .colab-df-spinner {\n",
              "    border: 2px solid var(--fill-color);\n",
              "    border-color: transparent;\n",
              "    border-bottom-color: var(--fill-color);\n",
              "    animation:\n",
              "      spin 1s steps(1) infinite;\n",
              "  }\n",
              "\n",
              "  @keyframes spin {\n",
              "    0% {\n",
              "      border-color: transparent;\n",
              "      border-bottom-color: var(--fill-color);\n",
              "      border-left-color: var(--fill-color);\n",
              "    }\n",
              "    20% {\n",
              "      border-color: transparent;\n",
              "      border-left-color: var(--fill-color);\n",
              "      border-top-color: var(--fill-color);\n",
              "    }\n",
              "    30% {\n",
              "      border-color: transparent;\n",
              "      border-left-color: var(--fill-color);\n",
              "      border-top-color: var(--fill-color);\n",
              "      border-right-color: var(--fill-color);\n",
              "    }\n",
              "    40% {\n",
              "      border-color: transparent;\n",
              "      border-right-color: var(--fill-color);\n",
              "      border-top-color: var(--fill-color);\n",
              "    }\n",
              "    60% {\n",
              "      border-color: transparent;\n",
              "      border-right-color: var(--fill-color);\n",
              "    }\n",
              "    80% {\n",
              "      border-color: transparent;\n",
              "      border-right-color: var(--fill-color);\n",
              "      border-bottom-color: var(--fill-color);\n",
              "    }\n",
              "    90% {\n",
              "      border-color: transparent;\n",
              "      border-bottom-color: var(--fill-color);\n",
              "    }\n",
              "  }\n",
              "</style>\n",
              "\n",
              "  <script>\n",
              "    async function quickchart(key) {\n",
              "      const quickchartButtonEl =\n",
              "        document.querySelector('#' + key + ' button');\n",
              "      quickchartButtonEl.disabled = true;  // To prevent multiple clicks.\n",
              "      quickchartButtonEl.classList.add('colab-df-spinner');\n",
              "      try {\n",
              "        const charts = await google.colab.kernel.invokeFunction(\n",
              "            'suggestCharts', [key], {});\n",
              "      } catch (error) {\n",
              "        console.error('Error during call to suggestCharts:', error);\n",
              "      }\n",
              "      quickchartButtonEl.classList.remove('colab-df-spinner');\n",
              "      quickchartButtonEl.classList.add('colab-df-quickchart-complete');\n",
              "    }\n",
              "    (() => {\n",
              "      let quickchartButtonEl =\n",
              "        document.querySelector('#df-2a0a5cf9-0599-4918-ab11-23515ea081fc button');\n",
              "      quickchartButtonEl.style.display =\n",
              "        google.colab.kernel.accessAllowed ? 'block' : 'none';\n",
              "    })();\n",
              "  </script>\n",
              "</div>\n",
              "    </div>\n",
              "  </div>\n"
            ]
          },
          "metadata": {},
          "execution_count": 4
        }
      ]
    },
    {
      "cell_type": "code",
      "source": [
        "df.info()"
      ],
      "metadata": {
        "colab": {
          "base_uri": "https://localhost:8080/"
        },
        "id": "HLnbR5o31uyJ",
        "outputId": "d2305344-81fd-4707-bde3-c47f602915ec"
      },
      "execution_count": null,
      "outputs": [
        {
          "output_type": "stream",
          "name": "stdout",
          "text": [
            "<class 'pandas.core.frame.DataFrame'>\n",
            "RangeIndex: 837 entries, 0 to 836\n",
            "Data columns (total 18 columns):\n",
            " #   Column               Non-Null Count  Dtype  \n",
            "---  ------               --------------  -----  \n",
            " 0   media_foto           837 non-null    int64  \n",
            " 1   media_video          837 non-null    int64  \n",
            " 2   price                837 non-null    int64  \n",
            " 3   original_price       837 non-null    int64  \n",
            " 4   campaign             837 non-null    int64  \n",
            " 5   stock                837 non-null    int64  \n",
            " 6   shop_badge           837 non-null    object \n",
            " 7   shop_rating          837 non-null    float64\n",
            " 8   waktu_proses         837 non-null    float64\n",
            " 9   Kategori             837 non-null    object \n",
            " 10  promo_cashback       837 non-null    int64  \n",
            " 11  promo_diskon         837 non-null    int64  \n",
            " 12  promo_gratis_ongkir  837 non-null    int64  \n",
            " 13  discount             837 non-null    float64\n",
            " 14  jam_buka             837 non-null    int64  \n",
            " 15  jam_tutup            837 non-null    int64  \n",
            " 16  Top10                837 non-null    int64  \n",
            " 17  terjual              837 non-null    int64  \n",
            "dtypes: float64(3), int64(13), object(2)\n",
            "memory usage: 117.8+ KB\n"
          ]
        }
      ]
    },
    {
      "cell_type": "code",
      "source": [],
      "metadata": {
        "id": "9LALSPDO1uur"
      },
      "execution_count": null,
      "outputs": []
    },
    {
      "cell_type": "code",
      "source": [],
      "metadata": {
        "id": "vyg2b-bzpLLi"
      },
      "execution_count": null,
      "outputs": []
    },
    {
      "cell_type": "markdown",
      "source": [
        "Deteksi dan Hapus outlier pada variabel y"
      ],
      "metadata": {
        "id": "EjYSsCO5o_WQ"
      }
    },
    {
      "cell_type": "code",
      "execution_count": null,
      "metadata": {
        "colab": {
          "base_uri": "https://localhost:8080/",
          "height": 348
        },
        "id": "VWxWT7d5hzi3",
        "outputId": "5b58bc85-12e6-4d23-c926-19054cd82708"
      },
      "outputs": [
        {
          "output_type": "display_data",
          "data": {
            "text/plain": [
              "<Figure size 2000x1000 with 1 Axes>"
            ],
            "image/png": "[encoded data removed]"
          },
          "metadata": {}
        }
      ],
      "source": [
        "import seaborn as sns\n",
        "import matplotlib.pyplot as plt\n",
        "\n",
        "df.boxplot(figsize=(20, 10))\n",
        "plt.title('Boxplot for Outlier Detection')\n",
        "plt.show()"
      ]
    },
    {
      "cell_type": "code",
      "execution_count": null,
      "metadata": {
        "id": "66qtBD9ohzfV"
      },
      "outputs": [],
      "source": [
        "import pandas as pd\n",
        "\n",
        "kolom_variabel_terjual = 'terjual'\n",
        "\n",
        "# tentukan iqr\n",
        "Q1 = df[kolom_variabel_terjual].quantile(0.25)\n",
        "Q3 = df[kolom_variabel_terjual].quantile(0.75)\n",
        "IQR = Q3 - Q1\n",
        "\n",
        "#batas atas dan batas bawah\n",
        "batas_bawah = Q1 - 1.5 * IQR\n",
        "batas_atas = Q3 + 1.5 * IQR\n",
        "\n",
        "#Filter DataFrame untuk menghapus outlier\n",
        "df_tanpa_outlier = df[(df[kolom_variabel_terjual] > batas_bawah) & (df[kolom_variabel_terjual] < batas_atas)]"
      ]
    },
    {
      "cell_type": "code",
      "execution_count": null,
      "metadata": {
        "colab": {
          "base_uri": "https://localhost:8080/",
          "height": 348
        },
        "id": "9ec8xN9Wh78E",
        "outputId": "5553175a-4a60-4e9d-9776-f86dd1fb67c6"
      },
      "outputs": [
        {
          "output_type": "display_data",
          "data": {
            "text/plain": [
              "<Figure size 2000x1000 with 1 Axes>"
            ],
            "image/png": "[encoded data removed]"
          },
          "metadata": {}
        }
      ],
      "source": [
        "df_tanpa_outlier.boxplot(figsize=(20, 10))\n",
        "plt.title('Boxplot for Outlier Detection')\n",
        "plt.show()"
      ]
    },
    {
      "cell_type": "code",
      "execution_count": null,
      "metadata": {
        "colab": {
          "base_uri": "https://localhost:8080/",
          "height": 343
        },
        "id": "yJjcAwWEh74d",
        "outputId": "ab9f8dd9-26c3-4851-a2d1-862700eef5a8"
      },
      "outputs": [
        {
          "output_type": "display_data",
          "data": {
            "text/plain": [
              "<Figure size 2000x1000 with 1 Axes>"
            ],
            "image/png": "[encoded data removed]"
          },
          "metadata": {}
        }
      ],
      "source": [
        "df_tanpa_outlier[['terjual']].boxplot(figsize=(20, 10))\n",
        "plt.title('setelah hapus outlier')\n",
        "plt.show()"
      ]
    },
    {
      "cell_type": "code",
      "execution_count": null,
      "metadata": {
        "id": "YccJ7REQh72U"
      },
      "outputs": [],
      "source": [
        "import pandas as pd\n",
        "\n",
        "kolom_variabel_terjual = 'terjual'\n",
        "\n",
        "# Hitung IQR\n",
        "Q1 = df_tanpa_outlier[kolom_variabel_terjual].quantile(0.25)\n",
        "Q3 = df_tanpa_outlier[kolom_variabel_terjual].quantile(0.75)\n",
        "IQR = Q3 - Q1\n",
        "\n",
        "# Tentukan batas atas dan batas bawah\n",
        "batas_bawah = Q1 - 1.5 * IQR\n",
        "batas_atas = Q3 + 1.5 * IQR\n",
        "\n",
        "# Filter DataFrame untuk menghapus outlier\n",
        "df_to = df_tanpa_outlier[(df_tanpa_outlier[kolom_variabel_terjual] > batas_bawah) & (df_tanpa_outlier[kolom_variabel_terjual] < batas_atas)]\n"
      ]
    },
    {
      "cell_type": "code",
      "execution_count": null,
      "metadata": {
        "id": "zRVLwMRsh70A"
      },
      "outputs": [],
      "source": [
        "import pandas as pd\n",
        "\n",
        "# Tentukan variabel yang ingin Anda gunakan untuk mengidentifikasi outlier\n",
        "kolom_variabel_terjual = 'terjual'\n",
        "\n",
        "# Hitung IQR (Interquartile Range) dari variabel tersebut\n",
        "Q1 = df_to[kolom_variabel_terjual].quantile(0.25)\n",
        "Q3 = df_to[kolom_variabel_terjual].quantile(0.75)\n",
        "IQR = Q3 - Q1\n",
        "\n",
        "# Tentukan batas atas dan batas bawah untuk mengidentifikasi outlier\n",
        "batas_bawah = Q1 - 1.5 * IQR\n",
        "batas_atas = Q3 + 1.5 * IQR\n",
        "\n",
        "# Filter DataFrame untuk menghapus outlier\n",
        "df= df_to[(df_to[kolom_variabel_terjual] > batas_bawah) & (df_to[kolom_variabel_terjual] < batas_atas)]\n"
      ]
    },
    {
      "cell_type": "code",
      "source": [
        "df.info()"
      ],
      "metadata": {
        "colab": {
          "base_uri": "https://localhost:8080/"
        },
        "id": "CL5oRLlPH8i7",
        "outputId": "60718a53-36c1-43c9-d63a-2d5dfe529bd1"
      },
      "execution_count": null,
      "outputs": [
        {
          "output_type": "stream",
          "name": "stdout",
          "text": [
            "<class 'pandas.core.frame.DataFrame'>\n",
            "Int64Index: 584 entries, 0 to 836\n",
            "Data columns (total 18 columns):\n",
            " #   Column               Non-Null Count  Dtype  \n",
            "---  ------               --------------  -----  \n",
            " 0   media_foto           584 non-null    int64  \n",
            " 1   media_video          584 non-null    int64  \n",
            " 2   price                584 non-null    int64  \n",
            " 3   original_price       584 non-null    int64  \n",
            " 4   campaign             584 non-null    int64  \n",
            " 5   stock                584 non-null    int64  \n",
            " 6   shop_badge           584 non-null    object \n",
            " 7   shop_rating          584 non-null    float64\n",
            " 8   waktu_proses         584 non-null    float64\n",
            " 9   Kategori             584 non-null    object \n",
            " 10  promo_cashback       584 non-null    int64  \n",
            " 11  promo_diskon         584 non-null    int64  \n",
            " 12  promo_gratis_ongkir  584 non-null    int64  \n",
            " 13  discount             584 non-null    float64\n",
            " 14  jam_buka             584 non-null    int64  \n",
            " 15  jam_tutup            584 non-null    int64  \n",
            " 16  Top10                584 non-null    int64  \n",
            " 17  terjual              584 non-null    int64  \n",
            "dtypes: float64(3), int64(13), object(2)\n",
            "memory usage: 86.7+ KB\n"
          ]
        }
      ]
    },
    {
      "cell_type": "code",
      "execution_count": null,
      "metadata": {
        "colab": {
          "base_uri": "https://localhost:8080/",
          "height": 343
        },
        "id": "Zemxrcrsh7xo",
        "outputId": "6bab205a-93ed-45b4-944c-65bf229ffba7"
      },
      "outputs": [
        {
          "output_type": "display_data",
          "data": {
            "text/plain": [
              "<Figure size 2000x1000 with 1 Axes>"
            ],
            "image/png": "[encoded data removed]"
          },
          "metadata": {}
        }
      ],
      "source": [
        "df[['terjual']].boxplot(figsize=(20, 10))\n",
        "plt.title('setelah hapus outlier')\n",
        "plt.show()"
      ]
    },
    {
      "cell_type": "code",
      "source": [],
      "metadata": {
        "id": "G_XMaVZ-pl2g"
      },
      "execution_count": null,
      "outputs": []
    },
    {
      "cell_type": "markdown",
      "source": [
        "Deteksi attribut kategorik"
      ],
      "metadata": {
        "id": "dJf-w3UnpnY2"
      }
    },
    {
      "cell_type": "code",
      "execution_count": null,
      "metadata": {
        "colab": {
          "base_uri": "https://localhost:8080/"
        },
        "id": "d1KhFZNRfOJp",
        "outputId": "e6769c20-4c4e-4948-bfaf-4d969ddd876f"
      },
      "outputs": [
        {
          "output_type": "execute_result",
          "data": {
            "text/plain": [
              "['shop_badge', 'Kategori']"
            ]
          },
          "metadata": {},
          "execution_count": 14
        }
      ],
      "source": [
        "#kategori attribut\n",
        "cat_col = []\n",
        "for x in df.dtypes.index:\n",
        "    if df.dtypes[x] == 'object':\n",
        "        cat_col.append(x)\n",
        "cat_col"
      ]
    },
    {
      "cell_type": "code",
      "execution_count": null,
      "metadata": {
        "colab": {
          "base_uri": "https://localhost:8080/"
        },
        "id": "I6TYeC5dfOGQ",
        "outputId": "c7acd609-8a76-40f4-b4fb-b28b3a5a2ed7"
      },
      "outputs": [
        {
          "output_type": "execute_result",
          "data": {
            "text/plain": [
              "['Kategori']"
            ]
          },
          "metadata": {},
          "execution_count": 15
        }
      ],
      "source": [
        "cat_col.remove('shop_badge')\n",
        "cat_col"
      ]
    },
    {
      "cell_type": "code",
      "source": [],
      "metadata": {
        "id": "KkfTkaCep0g3"
      },
      "execution_count": null,
      "outputs": []
    },
    {
      "cell_type": "markdown",
      "source": [
        "Encoding"
      ],
      "metadata": {
        "id": "374W4vD5p1Wk"
      }
    },
    {
      "cell_type": "code",
      "execution_count": null,
      "metadata": {
        "colab": {
          "base_uri": "https://localhost:8080/",
          "height": 417
        },
        "id": "KJrHwSw1fOD4",
        "outputId": "8ed6a76e-c5c0-416a-926e-0a6ad3d32004"
      },
      "outputs": [
        {
          "output_type": "stream",
          "name": "stderr",
          "text": [
            "<ipython-input-16-a5f477b3c428>:1: SettingWithCopyWarning: \n",
            "A value is trying to be set on a copy of a slice from a DataFrame.\n",
            "Try using .loc[row_indexer,col_indexer] = value instead\n",
            "\n",
            "See the caveats in the documentation: https://pandas.pydata.org/pandas-docs/stable/user_guide/indexing.html#returning-a-view-versus-a-copy\n",
            "  df['media_video'] = df['media_video'].astype(int)\n"
          ]
        },
        {
          "output_type": "execute_result",
          "data": {
            "text/plain": [
              "   media_foto  media_video   price  original_price  campaign  stock  \\\n",
              "0           1            0  155940          259900         0      8   \n",
              "1           1            0  259900          558000         0     39   \n",
              "4           1            0   19000          150000         0     99   \n",
              "5           3            0  144000          180000         0    998   \n",
              "6           3            0   28000           28000         0    810   \n",
              "\n",
              "       shop_badge  shop_rating  waktu_proses             Kategori  \\\n",
              "0  Official Store          4.8          9.00        Busana Wanita   \n",
              "1  Official Store          4.8          7.00          Busana Pria   \n",
              "4  Official Store          4.8          2.00  Kebutuhan Isi Rumah   \n",
              "5  Official Store          5.0          5.00      Perawatan Wajah   \n",
              "6  Official Store          4.8          0.65      Snack & Camilan   \n",
              "\n",
              "   promo_cashback  promo_diskon  promo_gratis_ongkir  discount  jam_buka  \\\n",
              "0               1             0                    0  0.400000         9   \n",
              "1               1             0                    0  0.534229         9   \n",
              "4               1             0                    0  0.873333         0   \n",
              "5               1             1                    0  0.200000         0   \n",
              "6               0             0                    0  0.000000         0   \n",
              "\n",
              "   jam_tutup  Top10  terjual  \n",
              "0         17      0      250  \n",
              "1         17      0       25  \n",
              "4         24      1       50  \n",
              "5         24      0      250  \n",
              "6         24      0      250  "
            ],
            "text/html": [
              "\n",
              "  <div id=\"df-86b3564a-7705-43b8-94e9-0a7b76ef7a0a\" class=\"colab-df-container\">\n",
              "    <div>\n",
              "<style scoped>\n",
              "    .dataframe tbody tr th:only-of-type {\n",
              "        vertical-align: middle;\n",
              "    }\n",
              "\n",
              "    .dataframe tbody tr th {\n",
              "        vertical-align: top;\n",
              "    }\n",
              "\n",
              "    .dataframe thead th {\n",
              "        text-align: right;\n",
              "    }\n",
              "</style>\n",
              "<table border=\"1\" class=\"dataframe\">\n",
              "  <thead>\n",
              "    <tr style=\"text-align: right;\">\n",
              "      <th></th>\n",
              "      <th>media_foto</th>\n",
              "      <th>media_video</th>\n",
              "      <th>price</th>\n",
              "      <th>original_price</th>\n",
              "      <th>campaign</th>\n",
              "      <th>stock</th>\n",
              "      <th>shop_badge</th>\n",
              "      <th>shop_rating</th>\n",
              "      <th>waktu_proses</th>\n",
              "      <th>Kategori</th>\n",
              "      <th>promo_cashback</th>\n",
              "      <th>promo_diskon</th>\n",
              "      <th>promo_gratis_ongkir</th>\n",
              "      <th>discount</th>\n",
              "      <th>jam_buka</th>\n",
              "      <th>jam_tutup</th>\n",
              "      <th>Top10</th>\n",
              "      <th>terjual</th>\n",
              "    </tr>\n",
              "  </thead>\n",
              "  <tbody>\n",
              "    <tr>\n",
              "      <th>0</th>\n",
              "      <td>1</td>\n",
              "      <td>0</td>\n",
              "      <td>155940</td>\n",
              "      <td>259900</td>\n",
              "      <td>0</td>\n",
              "      <td>8</td>\n",
              "      <td>Official Store</td>\n",
              "      <td>4.8</td>\n",
              "      <td>9.00</td>\n",
              "      <td>Busana Wanita</td>\n",
              "      <td>1</td>\n",
              "      <td>0</td>\n",
              "      <td>0</td>\n",
              "      <td>0.400000</td>\n",
              "      <td>9</td>\n",
              "      <td>17</td>\n",
              "      <td>0</td>\n",
              "      <td>250</td>\n",
              "    </tr>\n",
              "    <tr>\n",
              "      <th>1</th>\n",
              "      <td>1</td>\n",
              "      <td>0</td>\n",
              "      <td>259900</td>\n",
              "      <td>558000</td>\n",
              "      <td>0</td>\n",
              "      <td>39</td>\n",
              "      <td>Official Store</td>\n",
              "      <td>4.8</td>\n",
              "      <td>7.00</td>\n",
              "      <td>Busana Pria</td>\n",
              "      <td>1</td>\n",
              "      <td>0</td>\n",
              "      <td>0</td>\n",
              "      <td>0.534229</td>\n",
              "      <td>9</td>\n",
              "      <td>17</td>\n",
              "      <td>0</td>\n",
              "      <td>25</td>\n",
              "    </tr>\n",
              "    <tr>\n",
              "      <th>4</th>\n",
              "      <td>1</td>\n",
              "      <td>0</td>\n",
              "      <td>19000</td>\n",
              "      <td>150000</td>\n",
              "      <td>0</td>\n",
              "      <td>99</td>\n",
              "      <td>Official Store</td>\n",
              "      <td>4.8</td>\n",
              "      <td>2.00</td>\n",
              "      <td>Kebutuhan Isi Rumah</td>\n",
              "      <td>1</td>\n",
              "      <td>0</td>\n",
              "      <td>0</td>\n",
              "      <td>0.873333</td>\n",
              "      <td>0</td>\n",
              "      <td>24</td>\n",
              "      <td>1</td>\n",
              "      <td>50</td>\n",
              "    </tr>\n",
              "    <tr>\n",
              "      <th>5</th>\n",
              "      <td>3</td>\n",
              "      <td>0</td>\n",
              "      <td>144000</td>\n",
              "      <td>180000</td>\n",
              "      <td>0</td>\n",
              "      <td>998</td>\n",
              "      <td>Official Store</td>\n",
              "      <td>5.0</td>\n",
              "      <td>5.00</td>\n",
              "      <td>Perawatan Wajah</td>\n",
              "      <td>1</td>\n",
              "      <td>1</td>\n",
              "      <td>0</td>\n",
              "      <td>0.200000</td>\n",
              "      <td>0</td>\n",
              "      <td>24</td>\n",
              "      <td>0</td>\n",
              "      <td>250</td>\n",
              "    </tr>\n",
              "    <tr>\n",
              "      <th>6</th>\n",
              "      <td>3</td>\n",
              "      <td>0</td>\n",
              "      <td>28000</td>\n",
              "      <td>28000</td>\n",
              "      <td>0</td>\n",
              "      <td>810</td>\n",
              "      <td>Official Store</td>\n",
              "      <td>4.8</td>\n",
              "      <td>0.65</td>\n",
              "      <td>Snack &amp; Camilan</td>\n",
              "      <td>0</td>\n",
              "      <td>0</td>\n",
              "      <td>0</td>\n",
              "      <td>0.000000</td>\n",
              "      <td>0</td>\n",
              "      <td>24</td>\n",
              "      <td>0</td>\n",
              "      <td>250</td>\n",
              "    </tr>\n",
              "  </tbody>\n",
              "</table>\n",
              "</div>\n",
              "    <div class=\"colab-df-buttons\">\n",
              "\n",
              "  <div class=\"colab-df-container\">\n",
              "    <button class=\"colab-df-convert\" onclick=\"convertToInteractive('df-86b3564a-7705-43b8-94e9-0a7b76ef7a0a')\"\n",
              "            title=\"Convert this dataframe to an interactive table.\"\n",
              "            style=\"display:none;\">\n",
              "\n",
              "  <svg xmlns=\"http://www.w3.org/2000/svg\" height=\"24px\" viewBox=\"0 -960 960 960\">\n",
              "    <path d=\"M120-120v-720h720v720H120Zm60-500h600v-160H180v160Zm220 220h160v-160H400v160Zm0 220h160v-160H400v160ZM180-400h160v-160H180v160Zm440 0h160v-160H620v160ZM180-180h160v-160H180v160Zm440 0h160v-160H620v160Z\"/>\n",
              "  </svg>\n",
              "    </button>\n",
              "\n",
              "  <style>\n",
              "    .colab-df-container {\n",
              "      display:flex;\n",
              "      gap: 12px;\n",
              "    }\n",
              "\n",
              "    .colab-df-convert {\n",
              "      background-color: #E8F0FE;\n",
              "      border: none;\n",
              "      border-radius: 50%;\n",
              "      cursor: pointer;\n",
              "      display: none;\n",
              "      fill: #1967D2;\n",
              "      height: 32px;\n",
              "      padding: 0 0 0 0;\n",
              "      width: 32px;\n",
              "    }\n",
              "\n",
              "    .colab-df-convert:hover {\n",
              "      background-color: #E2EBFA;\n",
              "      box-shadow: 0px 1px 2px rgba(60, 64, 67, 0.3), 0px 1px 3px 1px rgba(60, 64, 67, 0.15);\n",
              "      fill: #174EA6;\n",
              "    }\n",
              "\n",
              "    .colab-df-buttons div {\n",
              "      margin-bottom: 4px;\n",
              "    }\n",
              "\n",
              "    [theme=dark] .colab-df-convert {\n",
              "      background-color: #3B4455;\n",
              "      fill: #D2E3FC;\n",
              "    }\n",
              "\n",
              "    [theme=dark] .colab-df-convert:hover {\n",
              "      background-color: #434B5C;\n",
              "      box-shadow: 0px 1px 3px 1px rgba(0, 0, 0, 0.15);\n",
              "      filter: drop-shadow(0px 1px 2px rgba(0, 0, 0, 0.3));\n",
              "      fill: #FFFFFF;\n",
              "    }\n",
              "  </style>\n",
              "\n",
              "    <script>\n",
              "      const buttonEl =\n",
              "        document.querySelector('#df-86b3564a-7705-43b8-94e9-0a7b76ef7a0a button.colab-df-convert');\n",
              "      buttonEl.style.display =\n",
              "        google.colab.kernel.accessAllowed ? 'block' : 'none';\n",
              "\n",
              "      async function convertToInteractive(key) {\n",
              "        const element = document.querySelector('#df-86b3564a-7705-43b8-94e9-0a7b76ef7a0a');\n",
              "        const dataTable =\n",
              "          await google.colab.kernel.invokeFunction('convertToInteractive',\n",
              "                                                    [key], {});\n",
              "        if (!dataTable) return;\n",
              "\n",
              "        const docLinkHtml = 'Like what you see? Visit the ' +\n",
              "          '<a target=\"_blank\" href=https://colab.research.google.com/notebooks/data_table.ipynb>data table notebook</a>'\n",
              "          + ' to learn more about interactive tables.';\n",
              "        element.innerHTML = '';\n",
              "        dataTable['output_type'] = 'display_data';\n",
              "        await google.colab.output.renderOutput(dataTable, element);\n",
              "        const docLink = document.createElement('div');\n",
              "        docLink.innerHTML = docLinkHtml;\n",
              "        element.appendChild(docLink);\n",
              "      }\n",
              "    </script>\n",
              "  </div>\n",
              "\n",
              "\n",
              "<div id=\"df-24e9bf73-9bbc-46ed-9847-0a3bf9f5b716\">\n",
              "  <button class=\"colab-df-quickchart\" onclick=\"quickchart('df-24e9bf73-9bbc-46ed-9847-0a3bf9f5b716')\"\n",
              "            title=\"Suggest charts\"\n",
              "            style=\"display:none;\">\n",
              "\n",
              "<svg xmlns=\"http://www.w3.org/2000/svg\" height=\"24px\"viewBox=\"0 0 24 24\"\n",
              "     width=\"24px\">\n",
              "    <g>\n",
              "        <path d=\"M19 3H5c-1.1 0-2 .9-2 2v14c0 1.1.9 2 2 2h14c1.1 0 2-.9 2-2V5c0-1.1-.9-2-2-2zM9 17H7v-7h2v7zm4 0h-2V7h2v10zm4 0h-2v-4h2v4z\"/>\n",
              "    </g>\n",
              "</svg>\n",
              "  </button>\n",
              "\n",
              "<style>\n",
              "  .colab-df-quickchart {\n",
              "      --bg-color: #E8F0FE;\n",
              "      --fill-color: #1967D2;\n",
              "      --hover-bg-color: #E2EBFA;\n",
              "      --hover-fill-color: #174EA6;\n",
              "      --disabled-fill-color: #AAA;\n",
              "      --disabled-bg-color: #DDD;\n",
              "  }\n",
              "\n",
              "  [theme=dark] .colab-df-quickchart {\n",
              "      --bg-color: #3B4455;\n",
              "      --fill-color: #D2E3FC;\n",
              "      --hover-bg-color: #434B5C;\n",
              "      --hover-fill-color: #FFFFFF;\n",
              "      --disabled-bg-color: #3B4455;\n",
              "      --disabled-fill-color: #666;\n",
              "  }\n",
              "\n",
              "  .colab-df-quickchart {\n",
              "    background-color: var(--bg-color);\n",
              "    border: none;\n",
              "    border-radius: 50%;\n",
              "    cursor: pointer;\n",
              "    display: none;\n",
              "    fill: var(--fill-color);\n",
              "    height: 32px;\n",
              "    padding: 0;\n",
              "    width: 32px;\n",
              "  }\n",
              "\n",
              "  .colab-df-quickchart:hover {\n",
              "    background-color: var(--hover-bg-color);\n",
              "    box-shadow: 0 1px 2px rgba(60, 64, 67, 0.3), 0 1px 3px 1px rgba(60, 64, 67, 0.15);\n",
              "    fill: var(--button-hover-fill-color);\n",
              "  }\n",
              "\n",
              "  .colab-df-quickchart-complete:disabled,\n",
              "  .colab-df-quickchart-complete:disabled:hover {\n",
              "    background-color: var(--disabled-bg-color);\n",
              "    fill: var(--disabled-fill-color);\n",
              "    box-shadow: none;\n",
              "  }\n",
              "\n",
              "  .colab-df-spinner {\n",
              "    border: 2px solid var(--fill-color);\n",
              "    border-color: transparent;\n",
              "    border-bottom-color: var(--fill-color);\n",
              "    animation:\n",
              "      spin 1s steps(1) infinite;\n",
              "  }\n",
              "\n",
              "  @keyframes spin {\n",
              "    0% {\n",
              "      border-color: transparent;\n",
              "      border-bottom-color: var(--fill-color);\n",
              "      border-left-color: var(--fill-color);\n",
              "    }\n",
              "    20% {\n",
              "      border-color: transparent;\n",
              "      border-left-color: var(--fill-color);\n",
              "      border-top-color: var(--fill-color);\n",
              "    }\n",
              "    30% {\n",
              "      border-color: transparent;\n",
              "      border-left-color: var(--fill-color);\n",
              "      border-top-color: var(--fill-color);\n",
              "      border-right-color: var(--fill-color);\n",
              "    }\n",
              "    40% {\n",
              "      border-color: transparent;\n",
              "      border-right-color: var(--fill-color);\n",
              "      border-top-color: var(--fill-color);\n",
              "    }\n",
              "    60% {\n",
              "      border-color: transparent;\n",
              "      border-right-color: var(--fill-color);\n",
              "    }\n",
              "    80% {\n",
              "      border-color: transparent;\n",
              "      border-right-color: var(--fill-color);\n",
              "      border-bottom-color: var(--fill-color);\n",
              "    }\n",
              "    90% {\n",
              "      border-color: transparent;\n",
              "      border-bottom-color: var(--fill-color);\n",
              "    }\n",
              "  }\n",
              "</style>\n",
              "\n",
              "  <script>\n",
              "    async function quickchart(key) {\n",
              "      const quickchartButtonEl =\n",
              "        document.querySelector('#' + key + ' button');\n",
              "      quickchartButtonEl.disabled = true;  // To prevent multiple clicks.\n",
              "      quickchartButtonEl.classList.add('colab-df-spinner');\n",
              "      try {\n",
              "        const charts = await google.colab.kernel.invokeFunction(\n",
              "            'suggestCharts', [key], {});\n",
              "      } catch (error) {\n",
              "        console.error('Error during call to suggestCharts:', error);\n",
              "      }\n",
              "      quickchartButtonEl.classList.remove('colab-df-spinner');\n",
              "      quickchartButtonEl.classList.add('colab-df-quickchart-complete');\n",
              "    }\n",
              "    (() => {\n",
              "      let quickchartButtonEl =\n",
              "        document.querySelector('#df-24e9bf73-9bbc-46ed-9847-0a3bf9f5b716 button');\n",
              "      quickchartButtonEl.style.display =\n",
              "        google.colab.kernel.accessAllowed ? 'block' : 'none';\n",
              "    })();\n",
              "  </script>\n",
              "</div>\n",
              "    </div>\n",
              "  </div>\n"
            ]
          },
          "metadata": {},
          "execution_count": 16
        }
      ],
      "source": [
        "df['media_video'] = df['media_video'].astype(int)\n",
        "df.head()"
      ]
    },
    {
      "cell_type": "code",
      "execution_count": null,
      "metadata": {
        "colab": {
          "base_uri": "https://localhost:8080/",
          "height": 359
        },
        "id": "czyX827ffOBk",
        "outputId": "db1bf68b-99e7-4432-f503-75820e281210"
      },
      "outputs": [
        {
          "output_type": "execute_result",
          "data": {
            "text/plain": [
              "   media_foto  media_video   price  original_price  campaign  stock  \\\n",
              "0           1            0  155940          259900         0      8   \n",
              "1           1            0  259900          558000         0     39   \n",
              "4           1            0   19000          150000         0     99   \n",
              "5           3            0  144000          180000         0    998   \n",
              "6           3            0   28000           28000         0    810   \n",
              "\n",
              "       shop_badge  shop_rating  waktu_proses             Kategori  ...  \\\n",
              "0  Official Store          4.8          9.00        Busana Wanita  ...   \n",
              "1  Official Store          4.8          7.00          Busana Pria  ...   \n",
              "4  Official Store          4.8          2.00  Kebutuhan Isi Rumah  ...   \n",
              "5  Official Store          5.0          5.00      Perawatan Wajah  ...   \n",
              "6  Official Store          4.8          0.65      Snack & Camilan  ...   \n",
              "\n",
              "   Kategori_Dapur  Kategori_Hobi  Kategori_Kebutuhan Bayi  \\\n",
              "0               0              0                        0   \n",
              "1               0              0                        0   \n",
              "4               0              0                        0   \n",
              "5               0              0                        0   \n",
              "6               0              0                        0   \n",
              "\n",
              "   Kategori_Kebutuhan Isi Rumah  Kategori_Makanan  Kategori_Make Up  \\\n",
              "0                             0                 0                 0   \n",
              "1                             0                 0                 0   \n",
              "4                             1                 0                 0   \n",
              "5                             0                 0                 0   \n",
              "6                             0                 0                 0   \n",
              "\n",
              "   Kategori_Otomotif  Kategori_Pakaian Olahraga  Kategori_Perawatan Wajah  \\\n",
              "0                  0                          0                         0   \n",
              "1                  0                          0                         0   \n",
              "4                  0                          0                         0   \n",
              "5                  0                          0                         1   \n",
              "6                  0                          0                         0   \n",
              "\n",
              "   Kategori_Snack & Camilan  \n",
              "0                         0  \n",
              "1                         0  \n",
              "4                         0  \n",
              "5                         0  \n",
              "6                         1  \n",
              "\n",
              "[5 rows x 34 columns]"
            ],
            "text/html": [
              "\n",
              "  <div id=\"df-4bf6305c-67ba-40d9-9678-0f1e3ecccfcb\" class=\"colab-df-container\">\n",
              "    <div>\n",
              "<style scoped>\n",
              "    .dataframe tbody tr th:only-of-type {\n",
              "        vertical-align: middle;\n",
              "    }\n",
              "\n",
              "    .dataframe tbody tr th {\n",
              "        vertical-align: top;\n",
              "    }\n",
              "\n",
              "    .dataframe thead th {\n",
              "        text-align: right;\n",
              "    }\n",
              "</style>\n",
              "<table border=\"1\" class=\"dataframe\">\n",
              "  <thead>\n",
              "    <tr style=\"text-align: right;\">\n",
              "      <th></th>\n",
              "      <th>media_foto</th>\n",
              "      <th>media_video</th>\n",
              "      <th>price</th>\n",
              "      <th>original_price</th>\n",
              "      <th>campaign</th>\n",
              "      <th>stock</th>\n",
              "      <th>shop_badge</th>\n",
              "      <th>shop_rating</th>\n",
              "      <th>waktu_proses</th>\n",
              "      <th>Kategori</th>\n",
              "      <th>...</th>\n",
              "      <th>Kategori_Dapur</th>\n",
              "      <th>Kategori_Hobi</th>\n",
              "      <th>Kategori_Kebutuhan Bayi</th>\n",
              "      <th>Kategori_Kebutuhan Isi Rumah</th>\n",
              "      <th>Kategori_Makanan</th>\n",
              "      <th>Kategori_Make Up</th>\n",
              "      <th>Kategori_Otomotif</th>\n",
              "      <th>Kategori_Pakaian Olahraga</th>\n",
              "      <th>Kategori_Perawatan Wajah</th>\n",
              "      <th>Kategori_Snack &amp; Camilan</th>\n",
              "    </tr>\n",
              "  </thead>\n",
              "  <tbody>\n",
              "    <tr>\n",
              "      <th>0</th>\n",
              "      <td>1</td>\n",
              "      <td>0</td>\n",
              "      <td>155940</td>\n",
              "      <td>259900</td>\n",
              "      <td>0</td>\n",
              "      <td>8</td>\n",
              "      <td>Official Store</td>\n",
              "      <td>4.8</td>\n",
              "      <td>9.00</td>\n",
              "      <td>Busana Wanita</td>\n",
              "      <td>...</td>\n",
              "      <td>0</td>\n",
              "      <td>0</td>\n",
              "      <td>0</td>\n",
              "      <td>0</td>\n",
              "      <td>0</td>\n",
              "      <td>0</td>\n",
              "      <td>0</td>\n",
              "      <td>0</td>\n",
              "      <td>0</td>\n",
              "      <td>0</td>\n",
              "    </tr>\n",
              "    <tr>\n",
              "      <th>1</th>\n",
              "      <td>1</td>\n",
              "      <td>0</td>\n",
              "      <td>259900</td>\n",
              "      <td>558000</td>\n",
              "      <td>0</td>\n",
              "      <td>39</td>\n",
              "      <td>Official Store</td>\n",
              "      <td>4.8</td>\n",
              "      <td>7.00</td>\n",
              "      <td>Busana Pria</td>\n",
              "      <td>...</td>\n",
              "      <td>0</td>\n",
              "      <td>0</td>\n",
              "      <td>0</td>\n",
              "      <td>0</td>\n",
              "      <td>0</td>\n",
              "      <td>0</td>\n",
              "      <td>0</td>\n",
              "      <td>0</td>\n",
              "      <td>0</td>\n",
              "      <td>0</td>\n",
              "    </tr>\n",
              "    <tr>\n",
              "      <th>4</th>\n",
              "      <td>1</td>\n",
              "      <td>0</td>\n",
              "      <td>19000</td>\n",
              "      <td>150000</td>\n",
              "      <td>0</td>\n",
              "      <td>99</td>\n",
              "      <td>Official Store</td>\n",
              "      <td>4.8</td>\n",
              "      <td>2.00</td>\n",
              "      <td>Kebutuhan Isi Rumah</td>\n",
              "      <td>...</td>\n",
              "      <td>0</td>\n",
              "      <td>0</td>\n",
              "      <td>0</td>\n",
              "      <td>1</td>\n",
              "      <td>0</td>\n",
              "      <td>0</td>\n",
              "      <td>0</td>\n",
              "      <td>0</td>\n",
              "      <td>0</td>\n",
              "      <td>0</td>\n",
              "    </tr>\n",
              "    <tr>\n",
              "      <th>5</th>\n",
              "      <td>3</td>\n",
              "      <td>0</td>\n",
              "      <td>144000</td>\n",
              "      <td>180000</td>\n",
              "      <td>0</td>\n",
              "      <td>998</td>\n",
              "      <td>Official Store</td>\n",
              "      <td>5.0</td>\n",
              "      <td>5.00</td>\n",
              "      <td>Perawatan Wajah</td>\n",
              "      <td>...</td>\n",
              "      <td>0</td>\n",
              "      <td>0</td>\n",
              "      <td>0</td>\n",
              "      <td>0</td>\n",
              "      <td>0</td>\n",
              "      <td>0</td>\n",
              "      <td>0</td>\n",
              "      <td>0</td>\n",
              "      <td>1</td>\n",
              "      <td>0</td>\n",
              "    </tr>\n",
              "    <tr>\n",
              "      <th>6</th>\n",
              "      <td>3</td>\n",
              "      <td>0</td>\n",
              "      <td>28000</td>\n",
              "      <td>28000</td>\n",
              "      <td>0</td>\n",
              "      <td>810</td>\n",
              "      <td>Official Store</td>\n",
              "      <td>4.8</td>\n",
              "      <td>0.65</td>\n",
              "      <td>Snack &amp; Camilan</td>\n",
              "      <td>...</td>\n",
              "      <td>0</td>\n",
              "      <td>0</td>\n",
              "      <td>0</td>\n",
              "      <td>0</td>\n",
              "      <td>0</td>\n",
              "      <td>0</td>\n",
              "      <td>0</td>\n",
              "      <td>0</td>\n",
              "      <td>0</td>\n",
              "      <td>1</td>\n",
              "    </tr>\n",
              "  </tbody>\n",
              "</table>\n",
              "<p>5 rows × 34 columns</p>\n",
              "</div>\n",
              "    <div class=\"colab-df-buttons\">\n",
              "\n",
              "  <div class=\"colab-df-container\">\n",
              "    <button class=\"colab-df-convert\" onclick=\"convertToInteractive('df-4bf6305c-67ba-40d9-9678-0f1e3ecccfcb')\"\n",
              "            title=\"Convert this dataframe to an interactive table.\"\n",
              "            style=\"display:none;\">\n",
              "\n",
              "  <svg xmlns=\"http://www.w3.org/2000/svg\" height=\"24px\" viewBox=\"0 -960 960 960\">\n",
              "    <path d=\"M120-120v-720h720v720H120Zm60-500h600v-160H180v160Zm220 220h160v-160H400v160Zm0 220h160v-160H400v160ZM180-400h160v-160H180v160Zm440 0h160v-160H620v160ZM180-180h160v-160H180v160Zm440 0h160v-160H620v160Z\"/>\n",
              "  </svg>\n",
              "    </button>\n",
              "\n",
              "  <style>\n",
              "    .colab-df-container {\n",
              "      display:flex;\n",
              "      gap: 12px;\n",
              "    }\n",
              "\n",
              "    .colab-df-convert {\n",
              "      background-color: #E8F0FE;\n",
              "      border: none;\n",
              "      border-radius: 50%;\n",
              "      cursor: pointer;\n",
              "      display: none;\n",
              "      fill: #1967D2;\n",
              "      height: 32px;\n",
              "      padding: 0 0 0 0;\n",
              "      width: 32px;\n",
              "    }\n",
              "\n",
              "    .colab-df-convert:hover {\n",
              "      background-color: #E2EBFA;\n",
              "      box-shadow: 0px 1px 2px rgba(60, 64, 67, 0.3), 0px 1px 3px 1px rgba(60, 64, 67, 0.15);\n",
              "      fill: #174EA6;\n",
              "    }\n",
              "\n",
              "    .colab-df-buttons div {\n",
              "      margin-bottom: 4px;\n",
              "    }\n",
              "\n",
              "    [theme=dark] .colab-df-convert {\n",
              "      background-color: #3B4455;\n",
              "      fill: #D2E3FC;\n",
              "    }\n",
              "\n",
              "    [theme=dark] .colab-df-convert:hover {\n",
              "      background-color: #434B5C;\n",
              "      box-shadow: 0px 1px 3px 1px rgba(0, 0, 0, 0.15);\n",
              "      filter: drop-shadow(0px 1px 2px rgba(0, 0, 0, 0.3));\n",
              "      fill: #FFFFFF;\n",
              "    }\n",
              "  </style>\n",
              "\n",
              "    <script>\n",
              "      const buttonEl =\n",
              "        document.querySelector('#df-4bf6305c-67ba-40d9-9678-0f1e3ecccfcb button.colab-df-convert');\n",
              "      buttonEl.style.display =\n",
              "        google.colab.kernel.accessAllowed ? 'block' : 'none';\n",
              "\n",
              "      async function convertToInteractive(key) {\n",
              "        const element = document.querySelector('#df-4bf6305c-67ba-40d9-9678-0f1e3ecccfcb');\n",
              "        const dataTable =\n",
              "          await google.colab.kernel.invokeFunction('convertToInteractive',\n",
              "                                                    [key], {});\n",
              "        if (!dataTable) return;\n",
              "\n",
              "        const docLinkHtml = 'Like what you see? Visit the ' +\n",
              "          '<a target=\"_blank\" href=https://colab.research.google.com/notebooks/data_table.ipynb>data table notebook</a>'\n",
              "          + ' to learn more about interactive tables.';\n",
              "        element.innerHTML = '';\n",
              "        dataTable['output_type'] = 'display_data';\n",
              "        await google.colab.output.renderOutput(dataTable, element);\n",
              "        const docLink = document.createElement('div');\n",
              "        docLink.innerHTML = docLinkHtml;\n",
              "        element.appendChild(docLink);\n",
              "      }\n",
              "    </script>\n",
              "  </div>\n",
              "\n",
              "\n",
              "<div id=\"df-6085bd49-b3d3-44b8-bc66-17505cca13ab\">\n",
              "  <button class=\"colab-df-quickchart\" onclick=\"quickchart('df-6085bd49-b3d3-44b8-bc66-17505cca13ab')\"\n",
              "            title=\"Suggest charts\"\n",
              "            style=\"display:none;\">\n",
              "\n",
              "<svg xmlns=\"http://www.w3.org/2000/svg\" height=\"24px\"viewBox=\"0 0 24 24\"\n",
              "     width=\"24px\">\n",
              "    <g>\n",
              "        <path d=\"M19 3H5c-1.1 0-2 .9-2 2v14c0 1.1.9 2 2 2h14c1.1 0 2-.9 2-2V5c0-1.1-.9-2-2-2zM9 17H7v-7h2v7zm4 0h-2V7h2v10zm4 0h-2v-4h2v4z\"/>\n",
              "    </g>\n",
              "</svg>\n",
              "  </button>\n",
              "\n",
              "<style>\n",
              "  .colab-df-quickchart {\n",
              "      --bg-color: #E8F0FE;\n",
              "      --fill-color: #1967D2;\n",
              "      --hover-bg-color: #E2EBFA;\n",
              "      --hover-fill-color: #174EA6;\n",
              "      --disabled-fill-color: #AAA;\n",
              "      --disabled-bg-color: #DDD;\n",
              "  }\n",
              "\n",
              "  [theme=dark] .colab-df-quickchart {\n",
              "      --bg-color: #3B4455;\n",
              "      --fill-color: #D2E3FC;\n",
              "      --hover-bg-color: #434B5C;\n",
              "      --hover-fill-color: #FFFFFF;\n",
              "      --disabled-bg-color: #3B4455;\n",
              "      --disabled-fill-color: #666;\n",
              "  }\n",
              "\n",
              "  .colab-df-quickchart {\n",
              "    background-color: var(--bg-color);\n",
              "    border: none;\n",
              "    border-radius: 50%;\n",
              "    cursor: pointer;\n",
              "    display: none;\n",
              "    fill: var(--fill-color);\n",
              "    height: 32px;\n",
              "    padding: 0;\n",
              "    width: 32px;\n",
              "  }\n",
              "\n",
              "  .colab-df-quickchart:hover {\n",
              "    background-color: var(--hover-bg-color);\n",
              "    box-shadow: 0 1px 2px rgba(60, 64, 67, 0.3), 0 1px 3px 1px rgba(60, 64, 67, 0.15);\n",
              "    fill: var(--button-hover-fill-color);\n",
              "  }\n",
              "\n",
              "  .colab-df-quickchart-complete:disabled,\n",
              "  .colab-df-quickchart-complete:disabled:hover {\n",
              "    background-color: var(--disabled-bg-color);\n",
              "    fill: var(--disabled-fill-color);\n",
              "    box-shadow: none;\n",
              "  }\n",
              "\n",
              "  .colab-df-spinner {\n",
              "    border: 2px solid var(--fill-color);\n",
              "    border-color: transparent;\n",
              "    border-bottom-color: var(--fill-color);\n",
              "    animation:\n",
              "      spin 1s steps(1) infinite;\n",
              "  }\n",
              "\n",
              "  @keyframes spin {\n",
              "    0% {\n",
              "      border-color: transparent;\n",
              "      border-bottom-color: var(--fill-color);\n",
              "      border-left-color: var(--fill-color);\n",
              "    }\n",
              "    20% {\n",
              "      border-color: transparent;\n",
              "      border-left-color: var(--fill-color);\n",
              "      border-top-color: var(--fill-color);\n",
              "    }\n",
              "    30% {\n",
              "      border-color: transparent;\n",
              "      border-left-color: var(--fill-color);\n",
              "      border-top-color: var(--fill-color);\n",
              "      border-right-color: var(--fill-color);\n",
              "    }\n",
              "    40% {\n",
              "      border-color: transparent;\n",
              "      border-right-color: var(--fill-color);\n",
              "      border-top-color: var(--fill-color);\n",
              "    }\n",
              "    60% {\n",
              "      border-color: transparent;\n",
              "      border-right-color: var(--fill-color);\n",
              "    }\n",
              "    80% {\n",
              "      border-color: transparent;\n",
              "      border-right-color: var(--fill-color);\n",
              "      border-bottom-color: var(--fill-color);\n",
              "    }\n",
              "    90% {\n",
              "      border-color: transparent;\n",
              "      border-bottom-color: var(--fill-color);\n",
              "    }\n",
              "  }\n",
              "</style>\n",
              "\n",
              "  <script>\n",
              "    async function quickchart(key) {\n",
              "      const quickchartButtonEl =\n",
              "        document.querySelector('#' + key + ' button');\n",
              "      quickchartButtonEl.disabled = true;  // To prevent multiple clicks.\n",
              "      quickchartButtonEl.classList.add('colab-df-spinner');\n",
              "      try {\n",
              "        const charts = await google.colab.kernel.invokeFunction(\n",
              "            'suggestCharts', [key], {});\n",
              "      } catch (error) {\n",
              "        console.error('Error during call to suggestCharts:', error);\n",
              "      }\n",
              "      quickchartButtonEl.classList.remove('colab-df-spinner');\n",
              "      quickchartButtonEl.classList.add('colab-df-quickchart-complete');\n",
              "    }\n",
              "    (() => {\n",
              "      let quickchartButtonEl =\n",
              "        document.querySelector('#df-6085bd49-b3d3-44b8-bc66-17505cca13ab button');\n",
              "      quickchartButtonEl.style.display =\n",
              "        google.colab.kernel.accessAllowed ? 'block' : 'none';\n",
              "    })();\n",
              "  </script>\n",
              "</div>\n",
              "    </div>\n",
              "  </div>\n"
            ]
          },
          "metadata": {},
          "execution_count": 17
        }
      ],
      "source": [
        "df_encoded = pd.get_dummies(df['Kategori'], prefix='Kategori')\n",
        "df = pd.concat([df, df_encoded], axis=1)\n",
        "df.head()"
      ]
    },
    {
      "cell_type": "code",
      "source": [],
      "metadata": {
        "id": "6OBY6NGgp5UA"
      },
      "execution_count": null,
      "outputs": []
    },
    {
      "cell_type": "markdown",
      "source": [
        "Data Split"
      ],
      "metadata": {
        "id": "Ye66ZNXwp47a"
      }
    },
    {
      "cell_type": "code",
      "execution_count": null,
      "metadata": {
        "id": "675hiJlIfN-_"
      },
      "outputs": [],
      "source": [
        "#split\n",
        "x= df.drop(columns=['shop_badge', 'Top10', 'terjual', 'Kategori','discount'])\n",
        "y= df['terjual']\n"
      ]
    },
    {
      "cell_type": "code",
      "execution_count": null,
      "metadata": {
        "colab": {
          "base_uri": "https://localhost:8080/",
          "height": 273
        },
        "id": "EJbWBHrifN8Y",
        "outputId": "3d707a3a-42f0-42d2-a225-a7aca23cfa6e"
      },
      "outputs": [
        {
          "output_type": "execute_result",
          "data": {
            "text/plain": [
              "   media_foto  media_video   price  original_price  campaign  stock  \\\n",
              "0           1            0  155940          259900         0      8   \n",
              "1           1            0  259900          558000         0     39   \n",
              "4           1            0   19000          150000         0     99   \n",
              "5           3            0  144000          180000         0    998   \n",
              "6           3            0   28000           28000         0    810   \n",
              "\n",
              "   shop_rating  waktu_proses  promo_cashback  promo_diskon  ...  \\\n",
              "0          4.8          9.00               1             0  ...   \n",
              "1          4.8          7.00               1             0  ...   \n",
              "4          4.8          2.00               1             0  ...   \n",
              "5          5.0          5.00               1             1  ...   \n",
              "6          4.8          0.65               0             0  ...   \n",
              "\n",
              "   Kategori_Dapur  Kategori_Hobi  Kategori_Kebutuhan Bayi  \\\n",
              "0               0              0                        0   \n",
              "1               0              0                        0   \n",
              "4               0              0                        0   \n",
              "5               0              0                        0   \n",
              "6               0              0                        0   \n",
              "\n",
              "   Kategori_Kebutuhan Isi Rumah  Kategori_Makanan  Kategori_Make Up  \\\n",
              "0                             0                 0                 0   \n",
              "1                             0                 0                 0   \n",
              "4                             1                 0                 0   \n",
              "5                             0                 0                 0   \n",
              "6                             0                 0                 0   \n",
              "\n",
              "   Kategori_Otomotif  Kategori_Pakaian Olahraga  Kategori_Perawatan Wajah  \\\n",
              "0                  0                          0                         0   \n",
              "1                  0                          0                         0   \n",
              "4                  0                          0                         0   \n",
              "5                  0                          0                         1   \n",
              "6                  0                          0                         0   \n",
              "\n",
              "   Kategori_Snack & Camilan  \n",
              "0                         0  \n",
              "1                         0  \n",
              "4                         0  \n",
              "5                         0  \n",
              "6                         1  \n",
              "\n",
              "[5 rows x 29 columns]"
            ],
            "text/html": [
              "\n",
              "  <div id=\"df-b2084e79-285e-4c22-a7c1-4271f5ac5c01\" class=\"colab-df-container\">\n",
              "    <div>\n",
              "<style scoped>\n",
              "    .dataframe tbody tr th:only-of-type {\n",
              "        vertical-align: middle;\n",
              "    }\n",
              "\n",
              "    .dataframe tbody tr th {\n",
              "        vertical-align: top;\n",
              "    }\n",
              "\n",
              "    .dataframe thead th {\n",
              "        text-align: right;\n",
              "    }\n",
              "</style>\n",
              "<table border=\"1\" class=\"dataframe\">\n",
              "  <thead>\n",
              "    <tr style=\"text-align: right;\">\n",
              "      <th></th>\n",
              "      <th>media_foto</th>\n",
              "      <th>media_video</th>\n",
              "      <th>price</th>\n",
              "      <th>original_price</th>\n",
              "      <th>campaign</th>\n",
              "      <th>stock</th>\n",
              "      <th>shop_rating</th>\n",
              "      <th>waktu_proses</th>\n",
              "      <th>promo_cashback</th>\n",
              "      <th>promo_diskon</th>\n",
              "      <th>...</th>\n",
              "      <th>Kategori_Dapur</th>\n",
              "      <th>Kategori_Hobi</th>\n",
              "      <th>Kategori_Kebutuhan Bayi</th>\n",
              "      <th>Kategori_Kebutuhan Isi Rumah</th>\n",
              "      <th>Kategori_Makanan</th>\n",
              "      <th>Kategori_Make Up</th>\n",
              "      <th>Kategori_Otomotif</th>\n",
              "      <th>Kategori_Pakaian Olahraga</th>\n",
              "      <th>Kategori_Perawatan Wajah</th>\n",
              "      <th>Kategori_Snack &amp; Camilan</th>\n",
              "    </tr>\n",
              "  </thead>\n",
              "  <tbody>\n",
              "    <tr>\n",
              "      <th>0</th>\n",
              "      <td>1</td>\n",
              "      <td>0</td>\n",
              "      <td>155940</td>\n",
              "      <td>259900</td>\n",
              "      <td>0</td>\n",
              "      <td>8</td>\n",
              "      <td>4.8</td>\n",
              "      <td>9.00</td>\n",
              "      <td>1</td>\n",
              "      <td>0</td>\n",
              "      <td>...</td>\n",
              "      <td>0</td>\n",
              "      <td>0</td>\n",
              "      <td>0</td>\n",
              "      <td>0</td>\n",
              "      <td>0</td>\n",
              "      <td>0</td>\n",
              "      <td>0</td>\n",
              "      <td>0</td>\n",
              "      <td>0</td>\n",
              "      <td>0</td>\n",
              "    </tr>\n",
              "    <tr>\n",
              "      <th>1</th>\n",
              "      <td>1</td>\n",
              "      <td>0</td>\n",
              "      <td>259900</td>\n",
              "      <td>558000</td>\n",
              "      <td>0</td>\n",
              "      <td>39</td>\n",
              "      <td>4.8</td>\n",
              "      <td>7.00</td>\n",
              "      <td>1</td>\n",
              "      <td>0</td>\n",
              "      <td>...</td>\n",
              "      <td>0</td>\n",
              "      <td>0</td>\n",
              "      <td>0</td>\n",
              "      <td>0</td>\n",
              "      <td>0</td>\n",
              "      <td>0</td>\n",
              "      <td>0</td>\n",
              "      <td>0</td>\n",
              "      <td>0</td>\n",
              "      <td>0</td>\n",
              "    </tr>\n",
              "    <tr>\n",
              "      <th>4</th>\n",
              "      <td>1</td>\n",
              "      <td>0</td>\n",
              "      <td>19000</td>\n",
              "      <td>150000</td>\n",
              "      <td>0</td>\n",
              "      <td>99</td>\n",
              "      <td>4.8</td>\n",
              "      <td>2.00</td>\n",
              "      <td>1</td>\n",
              "      <td>0</td>\n",
              "      <td>...</td>\n",
              "      <td>0</td>\n",
              "      <td>0</td>\n",
              "      <td>0</td>\n",
              "      <td>1</td>\n",
              "      <td>0</td>\n",
              "      <td>0</td>\n",
              "      <td>0</td>\n",
              "      <td>0</td>\n",
              "      <td>0</td>\n",
              "      <td>0</td>\n",
              "    </tr>\n",
              "    <tr>\n",
              "      <th>5</th>\n",
              "      <td>3</td>\n",
              "      <td>0</td>\n",
              "      <td>144000</td>\n",
              "      <td>180000</td>\n",
              "      <td>0</td>\n",
              "      <td>998</td>\n",
              "      <td>5.0</td>\n",
              "      <td>5.00</td>\n",
              "      <td>1</td>\n",
              "      <td>1</td>\n",
              "      <td>...</td>\n",
              "      <td>0</td>\n",
              "      <td>0</td>\n",
              "      <td>0</td>\n",
              "      <td>0</td>\n",
              "      <td>0</td>\n",
              "      <td>0</td>\n",
              "      <td>0</td>\n",
              "      <td>0</td>\n",
              "      <td>1</td>\n",
              "      <td>0</td>\n",
              "    </tr>\n",
              "    <tr>\n",
              "      <th>6</th>\n",
              "      <td>3</td>\n",
              "      <td>0</td>\n",
              "      <td>28000</td>\n",
              "      <td>28000</td>\n",
              "      <td>0</td>\n",
              "      <td>810</td>\n",
              "      <td>4.8</td>\n",
              "      <td>0.65</td>\n",
              "      <td>0</td>\n",
              "      <td>0</td>\n",
              "      <td>...</td>\n",
              "      <td>0</td>\n",
              "      <td>0</td>\n",
              "      <td>0</td>\n",
              "      <td>0</td>\n",
              "      <td>0</td>\n",
              "      <td>0</td>\n",
              "      <td>0</td>\n",
              "      <td>0</td>\n",
              "      <td>0</td>\n",
              "      <td>1</td>\n",
              "    </tr>\n",
              "  </tbody>\n",
              "</table>\n",
              "<p>5 rows × 29 columns</p>\n",
              "</div>\n",
              "    <div class=\"colab-df-buttons\">\n",
              "\n",
              "  <div class=\"colab-df-container\">\n",
              "    <button class=\"colab-df-convert\" onclick=\"convertToInteractive('df-b2084e79-285e-4c22-a7c1-4271f5ac5c01')\"\n",
              "            title=\"Convert this dataframe to an interactive table.\"\n",
              "            style=\"display:none;\">\n",
              "\n",
              "  <svg xmlns=\"http://www.w3.org/2000/svg\" height=\"24px\" viewBox=\"0 -960 960 960\">\n",
              "    <path d=\"M120-120v-720h720v720H120Zm60-500h600v-160H180v160Zm220 220h160v-160H400v160Zm0 220h160v-160H400v160ZM180-400h160v-160H180v160Zm440 0h160v-160H620v160ZM180-180h160v-160H180v160Zm440 0h160v-160H620v160Z\"/>\n",
              "  </svg>\n",
              "    </button>\n",
              "\n",
              "  <style>\n",
              "    .colab-df-container {\n",
              "      display:flex;\n",
              "      gap: 12px;\n",
              "    }\n",
              "\n",
              "    .colab-df-convert {\n",
              "      background-color: #E8F0FE;\n",
              "      border: none;\n",
              "      border-radius: 50%;\n",
              "      cursor: pointer;\n",
              "      display: none;\n",
              "      fill: #1967D2;\n",
              "      height: 32px;\n",
              "      padding: 0 0 0 0;\n",
              "      width: 32px;\n",
              "    }\n",
              "\n",
              "    .colab-df-convert:hover {\n",
              "      background-color: #E2EBFA;\n",
              "      box-shadow: 0px 1px 2px rgba(60, 64, 67, 0.3), 0px 1px 3px 1px rgba(60, 64, 67, 0.15);\n",
              "      fill: #174EA6;\n",
              "    }\n",
              "\n",
              "    .colab-df-buttons div {\n",
              "      margin-bottom: 4px;\n",
              "    }\n",
              "\n",
              "    [theme=dark] .colab-df-convert {\n",
              "      background-color: #3B4455;\n",
              "      fill: #D2E3FC;\n",
              "    }\n",
              "\n",
              "    [theme=dark] .colab-df-convert:hover {\n",
              "      background-color: #434B5C;\n",
              "      box-shadow: 0px 1px 3px 1px rgba(0, 0, 0, 0.15);\n",
              "      filter: drop-shadow(0px 1px 2px rgba(0, 0, 0, 0.3));\n",
              "      fill: #FFFFFF;\n",
              "    }\n",
              "  </style>\n",
              "\n",
              "    <script>\n",
              "      const buttonEl =\n",
              "        document.querySelector('#df-b2084e79-285e-4c22-a7c1-4271f5ac5c01 button.colab-df-convert');\n",
              "      buttonEl.style.display =\n",
              "        google.colab.kernel.accessAllowed ? 'block' : 'none';\n",
              "\n",
              "      async function convertToInteractive(key) {\n",
              "        const element = document.querySelector('#df-b2084e79-285e-4c22-a7c1-4271f5ac5c01');\n",
              "        const dataTable =\n",
              "          await google.colab.kernel.invokeFunction('convertToInteractive',\n",
              "                                                    [key], {});\n",
              "        if (!dataTable) return;\n",
              "\n",
              "        const docLinkHtml = 'Like what you see? Visit the ' +\n",
              "          '<a target=\"_blank\" href=https://colab.research.google.com/notebooks/data_table.ipynb>data table notebook</a>'\n",
              "          + ' to learn more about interactive tables.';\n",
              "        element.innerHTML = '';\n",
              "        dataTable['output_type'] = 'display_data';\n",
              "        await google.colab.output.renderOutput(dataTable, element);\n",
              "        const docLink = document.createElement('div');\n",
              "        docLink.innerHTML = docLinkHtml;\n",
              "        element.appendChild(docLink);\n",
              "      }\n",
              "    </script>\n",
              "  </div>\n",
              "\n",
              "\n",
              "<div id=\"df-3d2f49ec-d0cc-4b1a-b576-505567f3cf74\">\n",
              "  <button class=\"colab-df-quickchart\" onclick=\"quickchart('df-3d2f49ec-d0cc-4b1a-b576-505567f3cf74')\"\n",
              "            title=\"Suggest charts\"\n",
              "            style=\"display:none;\">\n",
              "\n",
              "<svg xmlns=\"http://www.w3.org/2000/svg\" height=\"24px\"viewBox=\"0 0 24 24\"\n",
              "     width=\"24px\">\n",
              "    <g>\n",
              "        <path d=\"M19 3H5c-1.1 0-2 .9-2 2v14c0 1.1.9 2 2 2h14c1.1 0 2-.9 2-2V5c0-1.1-.9-2-2-2zM9 17H7v-7h2v7zm4 0h-2V7h2v10zm4 0h-2v-4h2v4z\"/>\n",
              "    </g>\n",
              "</svg>\n",
              "  </button>\n",
              "\n",
              "<style>\n",
              "  .colab-df-quickchart {\n",
              "      --bg-color: #E8F0FE;\n",
              "      --fill-color: #1967D2;\n",
              "      --hover-bg-color: #E2EBFA;\n",
              "      --hover-fill-color: #174EA6;\n",
              "      --disabled-fill-color: #AAA;\n",
              "      --disabled-bg-color: #DDD;\n",
              "  }\n",
              "\n",
              "  [theme=dark] .colab-df-quickchart {\n",
              "      --bg-color: #3B4455;\n",
              "      --fill-color: #D2E3FC;\n",
              "      --hover-bg-color: #434B5C;\n",
              "      --hover-fill-color: #FFFFFF;\n",
              "      --disabled-bg-color: #3B4455;\n",
              "      --disabled-fill-color: #666;\n",
              "  }\n",
              "\n",
              "  .colab-df-quickchart {\n",
              "    background-color: var(--bg-color);\n",
              "    border: none;\n",
              "    border-radius: 50%;\n",
              "    cursor: pointer;\n",
              "    display: none;\n",
              "    fill: var(--fill-color);\n",
              "    height: 32px;\n",
              "    padding: 0;\n",
              "    width: 32px;\n",
              "  }\n",
              "\n",
              "  .colab-df-quickchart:hover {\n",
              "    background-color: var(--hover-bg-color);\n",
              "    box-shadow: 0 1px 2px rgba(60, 64, 67, 0.3), 0 1px 3px 1px rgba(60, 64, 67, 0.15);\n",
              "    fill: var(--button-hover-fill-color);\n",
              "  }\n",
              "\n",
              "  .colab-df-quickchart-complete:disabled,\n",
              "  .colab-df-quickchart-complete:disabled:hover {\n",
              "    background-color: var(--disabled-bg-color);\n",
              "    fill: var(--disabled-fill-color);\n",
              "    box-shadow: none;\n",
              "  }\n",
              "\n",
              "  .colab-df-spinner {\n",
              "    border: 2px solid var(--fill-color);\n",
              "    border-color: transparent;\n",
              "    border-bottom-color: var(--fill-color);\n",
              "    animation:\n",
              "      spin 1s steps(1) infinite;\n",
              "  }\n",
              "\n",
              "  @keyframes spin {\n",
              "    0% {\n",
              "      border-color: transparent;\n",
              "      border-bottom-color: var(--fill-color);\n",
              "      border-left-color: var(--fill-color);\n",
              "    }\n",
              "    20% {\n",
              "      border-color: transparent;\n",
              "      border-left-color: var(--fill-color);\n",
              "      border-top-color: var(--fill-color);\n",
              "    }\n",
              "    30% {\n",
              "      border-color: transparent;\n",
              "      border-left-color: var(--fill-color);\n",
              "      border-top-color: var(--fill-color);\n",
              "      border-right-color: var(--fill-color);\n",
              "    }\n",
              "    40% {\n",
              "      border-color: transparent;\n",
              "      border-right-color: var(--fill-color);\n",
              "      border-top-color: var(--fill-color);\n",
              "    }\n",
              "    60% {\n",
              "      border-color: transparent;\n",
              "      border-right-color: var(--fill-color);\n",
              "    }\n",
              "    80% {\n",
              "      border-color: transparent;\n",
              "      border-right-color: var(--fill-color);\n",
              "      border-bottom-color: var(--fill-color);\n",
              "    }\n",
              "    90% {\n",
              "      border-color: transparent;\n",
              "      border-bottom-color: var(--fill-color);\n",
              "    }\n",
              "  }\n",
              "</style>\n",
              "\n",
              "  <script>\n",
              "    async function quickchart(key) {\n",
              "      const quickchartButtonEl =\n",
              "        document.querySelector('#' + key + ' button');\n",
              "      quickchartButtonEl.disabled = true;  // To prevent multiple clicks.\n",
              "      quickchartButtonEl.classList.add('colab-df-spinner');\n",
              "      try {\n",
              "        const charts = await google.colab.kernel.invokeFunction(\n",
              "            'suggestCharts', [key], {});\n",
              "      } catch (error) {\n",
              "        console.error('Error during call to suggestCharts:', error);\n",
              "      }\n",
              "      quickchartButtonEl.classList.remove('colab-df-spinner');\n",
              "      quickchartButtonEl.classList.add('colab-df-quickchart-complete');\n",
              "    }\n",
              "    (() => {\n",
              "      let quickchartButtonEl =\n",
              "        document.querySelector('#df-3d2f49ec-d0cc-4b1a-b576-505567f3cf74 button');\n",
              "      quickchartButtonEl.style.display =\n",
              "        google.colab.kernel.accessAllowed ? 'block' : 'none';\n",
              "    })();\n",
              "  </script>\n",
              "</div>\n",
              "    </div>\n",
              "  </div>\n"
            ]
          },
          "metadata": {},
          "execution_count": 19
        }
      ],
      "source": [
        "x.head()"
      ]
    },
    {
      "cell_type": "code",
      "execution_count": null,
      "metadata": {
        "colab": {
          "base_uri": "https://localhost:8080/"
        },
        "id": "cxUd02ayhBBa",
        "outputId": "b3f4f0ef-4dc0-4d02-ed1c-566fd44dee8f"
      },
      "outputs": [
        {
          "output_type": "execute_result",
          "data": {
            "text/plain": [
              "0    250\n",
              "1     25\n",
              "4     50\n",
              "5    250\n",
              "6    250\n",
              "Name: terjual, dtype: int64"
            ]
          },
          "metadata": {},
          "execution_count": 20
        }
      ],
      "source": [
        "y.head()"
      ]
    },
    {
      "cell_type": "code",
      "source": [],
      "metadata": {
        "id": "yM29dadup_cg"
      },
      "execution_count": null,
      "outputs": []
    },
    {
      "cell_type": "markdown",
      "metadata": {
        "id": "yTUEyS5kg1Wm"
      },
      "source": [
        "## Model Machine Leraning Decission Tree Regressor"
      ]
    },
    {
      "cell_type": "code",
      "execution_count": null,
      "metadata": {
        "colab": {
          "base_uri": "https://localhost:8080/"
        },
        "id": "KfaNvgnmfN5o",
        "outputId": "607ba2f3-fe2d-45e4-885b-e8f44e98eafe"
      },
      "outputs": [
        {
          "output_type": "stream",
          "name": "stdout",
          "text": [
            "Kebaikan model DC REGRESSOR:\n",
            "Mean Squared Error: 2100.191871620443\n",
            "R-squared: 0.9783893824436407\n"
          ]
        }
      ],
      "source": [
        "# Import library\n",
        "from sklearn.tree import DecisionTreeRegressor\n",
        "from sklearn.model_selection import train_test_split\n",
        "from sklearn.metrics import mean_squared_error\n",
        "import pandas as pd\n",
        "from sklearn.metrics import r2_score\n",
        "\n",
        "# Pisahkan data menjadi data latih dan data uji\n",
        "X_train, X_test, y_train, y_test = train_test_split(x, y, test_size=0.2, random_state=42)\n",
        "\n",
        "# Inisialisasi model Decision Tree Regressor\n",
        "model = DecisionTreeRegressor()\n",
        "\n",
        "# Latih model dengan data latih\n",
        "model.fit(X_train, y_train)\n",
        "\n",
        "# Lakukan prediksi pada data uji\n",
        "predictions = model.predict(X_test)\n",
        "\n",
        "# Evaluasi model\n",
        "print('Kebaikan model DC REGRESSOR:')\n",
        "mse = mean_squared_error(y_test, predictions)\n",
        "print(f'Mean Squared Error: {mse}')\n",
        "\n",
        "# Menghitung R-squared\n",
        "r2 = r2_score(y_test, predictions)\n",
        "print(f'R-squared: {r2}')\n"
      ]
    },
    {
      "cell_type": "markdown",
      "metadata": {
        "id": "cboQeYL-pQyU"
      },
      "source": [
        "## Hyperparameter tuning"
      ]
    },
    {
      "cell_type": "code",
      "execution_count": null,
      "metadata": {
        "colab": {
          "base_uri": "https://localhost:8080/"
        },
        "id": "3DeY2sKrobXS",
        "outputId": "5e97d54f-d0f6-47d1-a5fe-c40eb9ffba34"
      },
      "outputs": [
        {
          "output_type": "stream",
          "name": "stdout",
          "text": [
            "Parameter Terbaik: {'max_depth': 30, 'min_samples_leaf': 1, 'min_samples_split': 2}\n",
            "Mean Squared Error (setelah penyetelan): 7971.858538287111\n",
            "R-squared (setelah penyetelan): 0.9179709299839367\n"
          ]
        }
      ],
      "source": [
        "from sklearn.model_selection import RandomizedSearchCV\n",
        "from scipy.stats import randint\n",
        "\n",
        "# Inisialisasi model Decision Tree Regressor\n",
        "model = DecisionTreeRegressor()\n",
        "\n",
        "# Tentukan distribusi parameter yang akan diuji\n",
        "param_dist = {\n",
        "    'max_depth': [None, 10, 20, 30],\n",
        "    'min_samples_split': randint(2, 11),\n",
        "    'min_samples_leaf': randint(1, 5)\n",
        "}\n",
        "\n",
        "# Inisialisasi RandomizedSearchCV dengan model dan parameter distribusi\n",
        "random_search = RandomizedSearchCV(estimator=model, param_distributions=param_dist, n_iter=20, scoring='neg_mean_squared_error', cv=5)\n",
        "\n",
        "# Lakukan random search pada data latih\n",
        "random_search.fit(X_train, y_train)\n",
        "\n",
        "# Tampilkan parameter terbaik\n",
        "print(\"Parameter Terbaik:\", random_search.best_params_)\n",
        "\n",
        "# Evaluasi model dengan parameter terbaik pada data uji\n",
        "best_model = random_search.best_estimator_\n",
        "predictions = best_model.predict(X_test)\n",
        "mse = mean_squared_error(y_test, predictions)\n",
        "print(f'Mean Squared Error (setelah penyetelan): {mse}')\n",
        "\n",
        "r2 = r2_score(y_test, predictions)\n",
        "print(f'R-squared (setelah penyetelan): {r2}')\n"
      ]
    },
    {
      "cell_type": "code",
      "source": [
        "pip install joblib\n"
      ],
      "metadata": {
        "colab": {
          "base_uri": "https://localhost:8080/"
        },
        "id": "abuotRRnZAOF",
        "outputId": "c4c6abc9-ea3f-47d3-8358-9c916ead0be0"
      },
      "execution_count": null,
      "outputs": [
        {
          "output_type": "stream",
          "name": "stdout",
          "text": [
            "Requirement already satisfied: joblib in /usr/local/lib/python3.10/dist-packages (1.3.2)\n"
          ]
        }
      ]
    },
    {
      "cell_type": "code",
      "source": [
        "from joblib import dump\n",
        "\n",
        "# Simpan model ke file\n",
        "model_filename = 'decision_tree_regressor_model.joblib'\n",
        "dump(best_model, model_filename)\n",
        "\n",
        "print(f\"Model telah disimpan ke {model_filename}\")\n"
      ],
      "metadata": {
        "colab": {
          "base_uri": "https://localhost:8080/"
        },
        "id": "FVhAvMmgZN5G",
        "outputId": "3410132b-3f79-4058-f433-76c9ba4fdbcf"
      },
      "execution_count": null,
      "outputs": [
        {
          "output_type": "stream",
          "name": "stdout",
          "text": [
            "Model telah disimpan ke decision_tree_regressor_model.joblib\n"
          ]
        }
      ]
    },
    {
      "cell_type": "code",
      "source": [],
      "metadata": {
        "id": "sK1wjUL_qkNa"
      },
      "execution_count": null,
      "outputs": []
    },
    {
      "cell_type": "markdown",
      "source": [
        "## Mendapatkan 3 Features teratas"
      ],
      "metadata": {
        "id": "BFXNkaQfqjff"
      }
    },
    {
      "cell_type": "code",
      "execution_count": null,
      "metadata": {
        "id": "c6tT7WPzobT2",
        "colab": {
          "base_uri": "https://localhost:8080/"
        },
        "outputId": "1ff9adb8-30b9-46fd-f28a-e95436ce907e"
      },
      "outputs": [
        {
          "output_type": "stream",
          "name": "stdout",
          "text": [
            "Top 3 Features:\n",
            "media_foto: 0.541693107652364\n",
            "campaign: 0.15070088685043195\n",
            "promo_gratis_ongkir: 0.06424156084165701\n"
          ]
        }
      ],
      "source": [
        "# Get feature importances from the best model\n",
        "feature_importances = best_model.feature_importances_\n",
        "\n",
        "# Create a dictionary mapping feature names to their importance scores\n",
        "feature_importance_dict = dict(zip(X_train.columns, feature_importances))\n",
        "\n",
        "# Sort the features based on their importance scores in descending order\n",
        "sorted_feature_importances = sorted(feature_importance_dict.items(), key=lambda x: x[1], reverse=True)\n",
        "\n",
        "# Extract the top 3 features\n",
        "top_3_features = sorted_feature_importances[:3]\n",
        "\n",
        "# Print the top 3 features\n",
        "print(\"Top 3 Features:\")\n",
        "for feature, importance in top_3_features:\n",
        "    print(f\"{feature}: {importance}\")\n"
      ]
    },
    {
      "cell_type": "markdown",
      "source": [
        "## Mendapatkan rules dari basemodel"
      ],
      "metadata": {
        "id": "JL9pYoH9qvqu"
      }
    },
    {
      "cell_type": "code",
      "execution_count": null,
      "metadata": {
        "id": "y5BRU5poobPN",
        "colab": {
          "base_uri": "https://localhost:8080/"
        },
        "outputId": "886d3bda-8413-42a2-8ca2-3cd53ebd53a5"
      },
      "outputs": [
        {
          "output_type": "stream",
          "name": "stdout",
          "text": [
            "Decision Tree Rules (Max Depth 3):\n",
            "|--- media_foto <= 3.50\n",
            "|   |--- campaign <= 0.50\n",
            "|   |   |--- Kategori_Pakaian Olahraga <= 0.50\n",
            "|   |   |   |--- value: [139.53]\n",
            "|   |   |--- Kategori_Pakaian Olahraga >  0.50\n",
            "|   |   |   |--- value: [510.42]\n",
            "|   |--- campaign >  0.50\n",
            "|   |   |--- promo_diskon <= 0.50\n",
            "|   |   |   |--- value: [588.71]\n",
            "|   |   |--- promo_diskon >  0.50\n",
            "|   |   |   |--- value: [825.00]\n",
            "|--- media_foto >  3.50\n",
            "|   |--- media_foto <= 14.00\n",
            "|   |   |--- stock <= 64.50\n",
            "|   |   |   |--- value: [707.14]\n",
            "|   |   |--- stock >  64.50\n",
            "|   |   |   |--- value: [879.63]\n",
            "|   |--- media_foto >  14.00\n",
            "|   |   |--- value: [100.00]\n",
            "\n"
          ]
        }
      ],
      "source": [
        "from sklearn.tree import export_text\n",
        "\n",
        "# Get the best model from RandomizedSearchCV\n",
        "best_model = random_search.best_estimator_\n",
        "\n",
        "# Set the maximum depth to 3\n",
        "best_model.set_params(max_depth=3)\n",
        "\n",
        "# Fit the model with the training data\n",
        "best_model.fit(X_train, y_train)\n",
        "\n",
        "# Extract rules from the tree\n",
        "tree_rules = export_text(best_model, feature_names=list(X_train.columns))\n",
        "\n",
        "# Print the rules\n",
        "print(\"Decision Tree Rules (Max Depth 3):\")\n",
        "print(tree_rules)\n"
      ]
    },
    {
      "cell_type": "code",
      "source": [],
      "metadata": {
        "id": "PSNDum0x3e_V"
      },
      "execution_count": null,
      "outputs": []
    },
    {
      "cell_type": "code",
      "source": [],
      "metadata": {
        "id": "ZB6tFCWC3e76"
      },
      "execution_count": null,
      "outputs": []
    },
    {
      "cell_type": "markdown",
      "source": [
        "## Mendapatkan rules dari setiap kategori berdasarkan basemodel"
      ],
      "metadata": {
        "id": "vW6lzEy-3gXb"
      }
    },
    {
      "cell_type": "code",
      "source": [
        "#split\n",
        "x= df.drop(columns=['shop_badge', 'Top10', 'terjual', 'Kategori','discount'])\n",
        "y= df['terjual']\n"
      ],
      "metadata": {
        "id": "SiIszk4-3e5t"
      },
      "execution_count": null,
      "outputs": []
    },
    {
      "cell_type": "markdown",
      "source": [
        "## Dapur"
      ],
      "metadata": {
        "id": "nF8ilp9cToSU"
      }
    },
    {
      "cell_type": "code",
      "source": [
        "x1 = x[x['Kategori_Dapur'] == 1]\n",
        "y1 = y[x['Kategori_Dapur'] == 1]\n",
        "\n",
        "print(\"Shape of x_filtered:\", x1.shape)\n",
        "print(\"Shape of y_filtered:\", y1.shape)\n"
      ],
      "metadata": {
        "colab": {
          "base_uri": "https://localhost:8080/"
        },
        "id": "fYb1_BeN3e24",
        "outputId": "42994919-86de-4d88-fe87-74b7eb69f2c5"
      },
      "execution_count": null,
      "outputs": [
        {
          "output_type": "stream",
          "name": "stdout",
          "text": [
            "Shape of x_filtered: (48, 29)\n",
            "Shape of y_filtered: (48,)\n"
          ]
        }
      ]
    },
    {
      "cell_type": "code",
      "execution_count": null,
      "metadata": {
        "id": "zcYxcViiobMt",
        "colab": {
          "base_uri": "https://localhost:8080/"
        },
        "outputId": "5d995eaf-86d3-47a0-9051-08ff3a4327f3"
      },
      "outputs": [
        {
          "output_type": "stream",
          "name": "stdout",
          "text": [
            "Decision Tree Rules (Max Depth 3):\n",
            "|--- campaign <= 0.50\n",
            "|   |--- shop_rating <= 4.85\n",
            "|   |   |--- value: [250.00]\n",
            "|   |--- shop_rating >  4.85\n",
            "|   |   |--- original_price <= 136750.00\n",
            "|   |   |   |--- value: [250.00]\n",
            "|   |   |--- original_price >  136750.00\n",
            "|   |   |   |--- value: [64.45]\n",
            "|--- campaign >  0.50\n",
            "|   |--- media_video <= 0.50\n",
            "|   |   |--- value: [1000.00]\n",
            "|   |--- media_video >  0.50\n",
            "|   |   |--- price <= 300174.50\n",
            "|   |   |   |--- value: [750.00]\n",
            "|   |   |--- price >  300174.50\n",
            "|   |   |   |--- value: [500.00]\n",
            "\n"
          ]
        }
      ],
      "source": [
        "best_model.fit(x1, y1)\n",
        "\n",
        "# Extract rules\n",
        "tree_rules = export_text(best_model, feature_names=list(x1))\n",
        "\n",
        "# Print rules\n",
        "print(\"Decision Tree Rules (Max Depth 3):\")\n",
        "print(tree_rules)"
      ]
    },
    {
      "cell_type": "code",
      "execution_count": null,
      "metadata": {
        "id": "PatS-N2nobJ_"
      },
      "outputs": [],
      "source": []
    },
    {
      "cell_type": "markdown",
      "source": [
        "## Makanan"
      ],
      "metadata": {
        "id": "CbMIHmrITsxd"
      }
    },
    {
      "cell_type": "code",
      "execution_count": null,
      "metadata": {
        "id": "YRejRjuDobG3",
        "colab": {
          "base_uri": "https://localhost:8080/"
        },
        "outputId": "b6a84d50-d628-41eb-c957-48e04ed3374a"
      },
      "outputs": [
        {
          "output_type": "stream",
          "name": "stdout",
          "text": [
            "Shape of x_filtered: (16, 29)\n",
            "Shape of y_filtered: (16,)\n"
          ]
        }
      ],
      "source": [
        "x2 = x[x['Kategori_Makanan'] == 1]\n",
        "y2 = y[x['Kategori_Makanan'] == 1]\n",
        "\n",
        "print(\"Shape of x_filtered:\", x2.shape)\n",
        "print(\"Shape of y_filtered:\", y2.shape)"
      ]
    },
    {
      "cell_type": "code",
      "execution_count": null,
      "metadata": {
        "id": "cQOU316yobD-",
        "colab": {
          "base_uri": "https://localhost:8080/"
        },
        "outputId": "29597f05-a108-4dbc-ded1-f1db3951b7c0"
      },
      "outputs": [
        {
          "output_type": "stream",
          "name": "stdout",
          "text": [
            "Decision Tree Rules (Max Depth 3):\n",
            "|--- campaign <= 0.50\n",
            "|   |--- value: [250.00]\n",
            "|--- campaign >  0.50\n",
            "|   |--- jam_tutup <= 16.00\n",
            "|   |   |--- value: [1000.00]\n",
            "|   |--- jam_tutup >  16.00\n",
            "|   |   |--- value: [500.00]\n",
            "\n"
          ]
        }
      ],
      "source": [
        "best_model.fit(x2, y2)\n",
        "\n",
        "# Extract rules\n",
        "tree_rules = export_text(best_model, feature_names=list(x2))\n",
        "\n",
        "# Print rules\n",
        "print(\"Decision Tree Rules (Max Depth 3):\")\n",
        "print(tree_rules)"
      ]
    },
    {
      "cell_type": "markdown",
      "source": [
        "## Asupan"
      ],
      "metadata": {
        "id": "7PkRuAbtT0h0"
      }
    },
    {
      "cell_type": "code",
      "source": [
        "x3 = x[x['Kategori_Asupan Ibu & Bayi'] == 1]\n",
        "y3 = y[x['Kategori_Asupan Ibu & Bayi'] == 1]\n",
        "\n",
        "print(\"Shape of x_filtered:\", x3.shape)\n",
        "print(\"Shape of y_filtered:\", y3.shape)\n"
      ],
      "metadata": {
        "colab": {
          "base_uri": "https://localhost:8080/"
        },
        "id": "1_GcUYFRUnHd",
        "outputId": "c5be2428-533c-4a05-b7eb-465f92db1856"
      },
      "execution_count": null,
      "outputs": [
        {
          "output_type": "stream",
          "name": "stdout",
          "text": [
            "Shape of x_filtered: (45, 29)\n",
            "Shape of y_filtered: (45,)\n"
          ]
        }
      ]
    },
    {
      "cell_type": "code",
      "source": [
        "best_model.fit(x3, y3)\n",
        "\n",
        "# Extract rules\n",
        "tree_rules = export_text(best_model, feature_names=list(x3))\n",
        "\n",
        "# Print rules\n",
        "print(\"Decision Tree Rules (Max Depth 3):\")\n",
        "print(tree_rules)"
      ],
      "metadata": {
        "colab": {
          "base_uri": "https://localhost:8080/"
        },
        "id": "S2gPHlnXUm3K",
        "outputId": "ffe0ddd7-d3a5-4502-fd73-de666dd428b4"
      },
      "execution_count": null,
      "outputs": [
        {
          "output_type": "stream",
          "name": "stdout",
          "text": [
            "Decision Tree Rules (Max Depth 3):\n",
            "|--- media_foto <= 3.00\n",
            "|   |--- waktu_proses <= 4.00\n",
            "|   |   |--- value: [250.00]\n",
            "|   |--- waktu_proses >  4.00\n",
            "|   |   |--- price <= 34425.00\n",
            "|   |   |   |--- value: [64.00]\n",
            "|   |   |--- price >  34425.00\n",
            "|   |   |   |--- value: [100.00]\n",
            "|--- media_foto >  3.00\n",
            "|   |--- campaign <= 0.50\n",
            "|   |   |--- original_price <= 54750.00\n",
            "|   |   |   |--- value: [500.00]\n",
            "|   |   |--- original_price >  54750.00\n",
            "|   |   |   |--- value: [750.00]\n",
            "|   |--- campaign >  0.50\n",
            "|   |   |--- value: [1000.00]\n",
            "\n"
          ]
        }
      ]
    },
    {
      "cell_type": "markdown",
      "source": [
        "## Minuman"
      ],
      "metadata": {
        "id": "ZBFwbyDtT3uJ"
      }
    },
    {
      "cell_type": "code",
      "source": [
        "x4 = x[x['Kategori_Berbagai Minuman'] == 1]\n",
        "y4 = y[x['Kategori_Berbagai Minuman'] == 1]\n",
        "\n",
        "print(\"Shape of x_filtered:\", x4.shape)\n",
        "print(\"Shape of y_filtered:\", y4.shape)\n",
        "\n",
        "\n",
        "\n",
        "best_model.fit(x4, y4)\n",
        "\n",
        "# Extract rules\n",
        "tree_rules = export_text(best_model, feature_names=list(x4))\n",
        "\n",
        "# Print rules\n",
        "print(\"Decision Tree Rules (Max Depth 3):\")\n",
        "print(tree_rules)"
      ],
      "metadata": {
        "colab": {
          "base_uri": "https://localhost:8080/"
        },
        "id": "vuQrmPonU_l3",
        "outputId": "c2ebca8f-1edd-4059-db1e-3b3dec726604"
      },
      "execution_count": null,
      "outputs": [
        {
          "output_type": "stream",
          "name": "stdout",
          "text": [
            "Shape of x_filtered: (13, 29)\n",
            "Shape of y_filtered: (13,)\n",
            "Decision Tree Rules (Max Depth 3):\n",
            "|--- media_foto <= 3.00\n",
            "|   |--- jam_buka <= 8.50\n",
            "|   |   |--- value: [500.00]\n",
            "|   |--- jam_buka >  8.50\n",
            "|   |   |--- value: [250.00]\n",
            "|--- media_foto >  3.00\n",
            "|   |--- price <= 71400.00\n",
            "|   |   |--- value: [1000.00]\n",
            "|   |--- price >  71400.00\n",
            "|   |   |--- value: [750.00]\n",
            "\n"
          ]
        }
      ]
    },
    {
      "cell_type": "markdown",
      "source": [
        "## Anak dan Bayi"
      ],
      "metadata": {
        "id": "0RPeQCpvT7L8"
      }
    },
    {
      "cell_type": "code",
      "source": [
        "x5 = x[x['Kategori_Busana Anak & Bayi'] == 1]\n",
        "y5 = y[x['Kategori_Busana Anak & Bayi'] == 1]\n",
        "\n",
        "print(\"Shape of x_filtered:\", x5.shape)\n",
        "print(\"Shape of y_filtered:\", y5.shape)\n",
        "\n",
        "\n",
        "\n",
        "best_model.fit(x5, y5)\n",
        "\n",
        "# Extract rules\n",
        "tree_rules = export_text(best_model, feature_names=list(x5))\n",
        "\n",
        "# Print rules\n",
        "print(\"Decision Tree Rules (Max Depth 3):\")\n",
        "print(tree_rules)"
      ],
      "metadata": {
        "colab": {
          "base_uri": "https://localhost:8080/"
        },
        "id": "8RC-Kf8_VYHv",
        "outputId": "1040daae-6883-4478-94cb-1a19d3a0235a"
      },
      "execution_count": null,
      "outputs": [
        {
          "output_type": "stream",
          "name": "stdout",
          "text": [
            "Shape of x_filtered: (39, 29)\n",
            "Shape of y_filtered: (39,)\n",
            "Decision Tree Rules (Max Depth 3):\n",
            "|--- media_foto <= 4.50\n",
            "|   |--- campaign <= 0.50\n",
            "|   |   |--- stock <= 42.50\n",
            "|   |   |   |--- value: [117.14]\n",
            "|   |   |--- stock >  42.50\n",
            "|   |   |   |--- value: [250.00]\n",
            "|   |--- campaign >  0.50\n",
            "|   |   |--- value: [500.00]\n",
            "|--- media_foto >  4.50\n",
            "|   |--- jam_tutup <= 20.00\n",
            "|   |   |--- value: [1000.00]\n",
            "|   |--- jam_tutup >  20.00\n",
            "|   |   |--- value: [750.00]\n",
            "\n"
          ]
        }
      ]
    },
    {
      "cell_type": "markdown",
      "source": [
        "## Muslim"
      ],
      "metadata": {
        "id": "tM6ZeUrzT9kA"
      }
    },
    {
      "cell_type": "code",
      "source": [
        "x6 = x[x['Kategori_Busana Muslim'] == 1]\n",
        "y6 = y[x['Kategori_Busana Muslim'] == 1]\n",
        "\n",
        "print(\"Shape of x_filtered:\", x6.shape)\n",
        "print(\"Shape of y_filtered:\", y6.shape)\n",
        "\n",
        "\n",
        "\n",
        "best_model.fit(x6, y6)\n",
        "\n",
        "# Extract rules\n",
        "tree_rules = export_text(best_model, feature_names=list(x6))\n",
        "\n",
        "# Print rules\n",
        "print(\"Decision Tree Rules (Max Depth 3):\")\n",
        "print(tree_rules)"
      ],
      "metadata": {
        "colab": {
          "base_uri": "https://localhost:8080/"
        },
        "id": "a6ARWHpPVlFX",
        "outputId": "968b7309-820a-40c7-bfdb-554abcda4ca8"
      },
      "execution_count": null,
      "outputs": [
        {
          "output_type": "stream",
          "name": "stdout",
          "text": [
            "Shape of x_filtered: (54, 29)\n",
            "Shape of y_filtered: (54,)\n",
            "Decision Tree Rules (Max Depth 3):\n",
            "|--- campaign <= 0.50\n",
            "|   |--- stock <= 39.00\n",
            "|   |   |--- jam_tutup <= 19.00\n",
            "|   |   |   |--- value: [47.40]\n",
            "|   |   |--- jam_tutup >  19.00\n",
            "|   |   |   |--- value: [250.00]\n",
            "|   |--- stock >  39.00\n",
            "|   |   |--- price <= 43500.00\n",
            "|   |   |   |--- value: [30.00]\n",
            "|   |   |--- price >  43500.00\n",
            "|   |   |   |--- value: [222.22]\n",
            "|--- campaign >  0.50\n",
            "|   |--- value: [1000.00]\n",
            "\n"
          ]
        }
      ]
    },
    {
      "cell_type": "markdown",
      "source": [
        "## Pria"
      ],
      "metadata": {
        "id": "3OBBq77LT-fM"
      }
    },
    {
      "cell_type": "code",
      "source": [
        "x7 = x[x['Kategori_Busana Pria'] == 1]\n",
        "y7 = y[x['Kategori_Busana Pria'] == 1]\n",
        "\n",
        "print(\"Shape of x_filtered:\", x7.shape)\n",
        "print(\"Shape of y_filtered:\", y7.shape)\n",
        "\n",
        "\n",
        "best_model.fit(x7, y7)\n",
        "\n",
        "# Extract rules\n",
        "tree_rules = export_text(best_model, feature_names=list(x7))\n",
        "\n",
        "# Print rules\n",
        "print(\"Decision Tree Rules (Max Depth 3):\")\n",
        "print(tree_rules)"
      ],
      "metadata": {
        "colab": {
          "base_uri": "https://localhost:8080/"
        },
        "id": "pmViEOkfV12l",
        "outputId": "77be2d35-ae2c-407b-83bd-2ed4dea142f5"
      },
      "execution_count": null,
      "outputs": [
        {
          "output_type": "stream",
          "name": "stdout",
          "text": [
            "Shape of x_filtered: (58, 29)\n",
            "Shape of y_filtered: (58,)\n",
            "Decision Tree Rules (Max Depth 3):\n",
            "|--- campaign <= 0.50\n",
            "|   |--- stock <= 69.00\n",
            "|   |   |--- stock <= 4.00\n",
            "|   |   |   |--- value: [250.00]\n",
            "|   |   |--- stock >  4.00\n",
            "|   |   |   |--- value: [49.21]\n",
            "|   |--- stock >  69.00\n",
            "|   |   |--- price <= 152450.00\n",
            "|   |   |   |--- value: [127.14]\n",
            "|   |   |--- price >  152450.00\n",
            "|   |   |   |--- value: [250.00]\n",
            "|--- campaign >  0.50\n",
            "|   |--- value: [500.00]\n",
            "\n"
          ]
        }
      ]
    },
    {
      "cell_type": "markdown",
      "source": [
        "## Wanita"
      ],
      "metadata": {
        "id": "mCIVhv_eT_Rt"
      }
    },
    {
      "cell_type": "code",
      "source": [
        "x8= x[x['Kategori_Busana Wanita'] == 1]\n",
        "y8 = y[x['Kategori_Busana Wanita'] == 1]\n",
        "\n",
        "print(\"Shape of x_filtered:\", x8.shape)\n",
        "print(\"Shape of y_filtered:\", y8.shape)\n",
        "\n",
        "\n",
        "best_model.fit(x8, y8)\n",
        "\n",
        "# Extract rules\n",
        "tree_rules = export_text(best_model, feature_names=list(x8))\n",
        "\n",
        "# Print rules\n",
        "print(\"Decision Tree Rules (Max Depth 3):\")\n",
        "print(tree_rules)"
      ],
      "metadata": {
        "colab": {
          "base_uri": "https://localhost:8080/"
        },
        "id": "n0x_ozyKWFIj",
        "outputId": "2048e77e-83b8-423b-b8a0-5657a749fffd"
      },
      "execution_count": null,
      "outputs": [
        {
          "output_type": "stream",
          "name": "stdout",
          "text": [
            "Shape of x_filtered: (53, 29)\n",
            "Shape of y_filtered: (53,)\n",
            "Decision Tree Rules (Max Depth 3):\n",
            "|--- promo_gratis_ongkir <= 0.50\n",
            "|   |--- promo_diskon <= 0.50\n",
            "|   |   |--- waktu_proses <= 6.00\n",
            "|   |   |   |--- value: [25.67]\n",
            "|   |   |--- waktu_proses >  6.00\n",
            "|   |   |   |--- value: [103.85]\n",
            "|   |--- promo_diskon >  0.50\n",
            "|   |   |--- original_price <= 184000.00\n",
            "|   |   |   |--- value: [250.00]\n",
            "|   |   |--- original_price >  184000.00\n",
            "|   |   |   |--- value: [120.91]\n",
            "|--- promo_gratis_ongkir >  0.50\n",
            "|   |--- campaign <= 0.50\n",
            "|   |   |--- value: [1000.00]\n",
            "|   |--- campaign >  0.50\n",
            "|   |   |--- value: [500.00]\n",
            "\n"
          ]
        }
      ]
    },
    {
      "cell_type": "markdown",
      "source": [
        "### Hobi"
      ],
      "metadata": {
        "id": "oqllWJJFUAKf"
      }
    },
    {
      "cell_type": "code",
      "source": [
        "x9 = x[x['Kategori_Hobi'] == 1]\n",
        "y9 = y[x['Kategori_Hobi'] == 1]\n",
        "\n",
        "print(\"Shape of x_filtered:\", x9.shape)\n",
        "print(\"Shape of y_filtered:\", y9.shape)\n",
        "\n",
        "best_model.fit(x9, y9)\n",
        "\n",
        "# Extract rules\n",
        "tree_rules = export_text(best_model, feature_names=list(x9))\n",
        "\n",
        "# Print the rules\n",
        "print(\"Decision Tree Rules (Max Depth 3):\")\n",
        "print(tree_rules)"
      ],
      "metadata": {
        "colab": {
          "base_uri": "https://localhost:8080/"
        },
        "id": "TxOqHvzbWQBc",
        "outputId": "b0be9c1f-f7df-47a7-c4fa-6d19220c4b89"
      },
      "execution_count": null,
      "outputs": [
        {
          "output_type": "stream",
          "name": "stdout",
          "text": [
            "Shape of x_filtered: (8, 29)\n",
            "Shape of y_filtered: (8,)\n",
            "Decision Tree Rules (Max Depth 3):\n",
            "|--- value: [100.00]\n",
            "\n"
          ]
        }
      ]
    },
    {
      "cell_type": "markdown",
      "source": [
        "## Kebutuhan Bayi"
      ],
      "metadata": {
        "id": "2lTbjnFVUFxr"
      }
    },
    {
      "cell_type": "code",
      "source": [
        "x10 = x[x['Kategori_Kebutuhan Bayi'] == 1]\n",
        "y10= y[x['Kategori_Kebutuhan Bayi'] == 1]\n",
        "\n",
        "print(\"Shape of x_filtered:\", x10.shape)\n",
        "print(\"Shape of y_filtered:\", y10.shape)\n",
        "\n",
        "\n",
        "best_model.fit(x10, y10)\n",
        "\n",
        "# Extract rules\n",
        "tree_rules = export_text(best_model, feature_names=list(x10))\n",
        "\n",
        "# Print rules\n",
        "print(\"Decision Tree Rules (Max Depth 3):\")\n",
        "print(tree_rules)"
      ],
      "metadata": {
        "colab": {
          "base_uri": "https://localhost:8080/"
        },
        "id": "lUsnHr-8Wb7g",
        "outputId": "351725b4-ed85-47a3-de03-dd080760377f"
      },
      "execution_count": null,
      "outputs": [
        {
          "output_type": "stream",
          "name": "stdout",
          "text": [
            "Shape of x_filtered: (28, 29)\n",
            "Shape of y_filtered: (28,)\n",
            "Decision Tree Rules (Max Depth 3):\n",
            "|--- campaign <= 0.50\n",
            "|   |--- stock <= 741.00\n",
            "|   |   |--- original_price <= 36350.00\n",
            "|   |   |   |--- value: [60.00]\n",
            "|   |   |--- original_price >  36350.00\n",
            "|   |   |   |--- value: [112.73]\n",
            "|   |--- stock >  741.00\n",
            "|   |   |--- value: [250.00]\n",
            "|--- campaign >  0.50\n",
            "|   |--- media_video <= 0.50\n",
            "|   |   |--- value: [1000.00]\n",
            "|   |--- media_video >  0.50\n",
            "|   |   |--- value: [750.00]\n",
            "\n"
          ]
        }
      ]
    },
    {
      "cell_type": "markdown",
      "source": [
        "## Isi Rumah"
      ],
      "metadata": {
        "id": "_msTZEwzUOrg"
      }
    },
    {
      "cell_type": "code",
      "source": [
        "x11 = x[x['Kategori_Kebutuhan Isi Rumah'] == 1]\n",
        "y11= y[x['Kategori_Kebutuhan Isi Rumah'] == 1]\n",
        "\n",
        "print(\"Shape of x_filtered:\", x11.shape)\n",
        "print(\"Shape of y_filtered:\", y11.shape)\n",
        "\n",
        "best_model.fit(x11, y11)\n",
        "\n",
        "# Extract rules\n",
        "tree_rules = export_text(best_model, feature_names=list(x11))\n",
        "\n",
        "# Print rules\n",
        "print(\"Decision Tree Rules (Max Depth 3):\")\n",
        "print(tree_rules)"
      ],
      "metadata": {
        "colab": {
          "base_uri": "https://localhost:8080/"
        },
        "id": "NW8TnHFJWp9H",
        "outputId": "24661ad2-6e4e-4b31-b503-56b9c02bab91"
      },
      "execution_count": null,
      "outputs": [
        {
          "output_type": "stream",
          "name": "stdout",
          "text": [
            "Shape of x_filtered: (53, 29)\n",
            "Shape of y_filtered: (53,)\n",
            "Decision Tree Rules (Max Depth 3):\n",
            "|--- promo_gratis_ongkir <= 0.50\n",
            "|   |--- campaign <= 0.50\n",
            "|   |   |--- jam_tutup <= 21.00\n",
            "|   |   |   |--- value: [217.86]\n",
            "|   |   |--- jam_tutup >  21.00\n",
            "|   |   |   |--- value: [35.71]\n",
            "|   |--- campaign >  0.50\n",
            "|   |   |--- value: [500.00]\n",
            "|--- promo_gratis_ongkir >  0.50\n",
            "|   |--- original_price <= 1087500.00\n",
            "|   |   |--- stock <= 96.50\n",
            "|   |   |   |--- value: [750.00]\n",
            "|   |   |--- stock >  96.50\n",
            "|   |   |   |--- value: [1000.00]\n",
            "|   |--- original_price >  1087500.00\n",
            "|   |   |--- value: [500.00]\n",
            "\n"
          ]
        }
      ]
    },
    {
      "cell_type": "markdown",
      "source": [
        "## Make up"
      ],
      "metadata": {
        "id": "6i84WQcQUQZ-"
      }
    },
    {
      "cell_type": "code",
      "source": [
        "x12 = x[x['Kategori_Make Up'] == 1]\n",
        "y12 = y[x['Kategori_Make Up'] == 1]\n",
        "\n",
        "print(\"Shape of x_filtered:\", x12.shape)\n",
        "print(\"Shape of y_filtered:\", y12.shape)\n",
        "\n",
        "\n",
        "best_model.fit(x12, y12)\n",
        "\n",
        "# Extract rules\n",
        "tree_rules = export_text(best_model, feature_names=list(x12))\n",
        "\n",
        "# Print the rules\n",
        "print(\"Decision Tree Rules (Max Depth 3):\")\n",
        "print(tree_rules)"
      ],
      "metadata": {
        "colab": {
          "base_uri": "https://localhost:8080/"
        },
        "id": "nRGykBtcW5PA",
        "outputId": "0a350acc-3f3d-4d56-d643-8ac91eae8049"
      },
      "execution_count": null,
      "outputs": [
        {
          "output_type": "stream",
          "name": "stdout",
          "text": [
            "Shape of x_filtered: (23, 29)\n",
            "Shape of y_filtered: (23,)\n",
            "Decision Tree Rules (Max Depth 3):\n",
            "|--- media_foto <= 4.00\n",
            "|   |--- waktu_proses <= 5.00\n",
            "|   |   |--- value: [250.00]\n",
            "|   |--- waktu_proses >  5.00\n",
            "|   |   |--- value: [500.00]\n",
            "|--- media_foto >  4.00\n",
            "|   |--- jam_tutup <= 20.50\n",
            "|   |   |--- value: [750.00]\n",
            "|   |--- jam_tutup >  20.50\n",
            "|   |   |--- value: [1000.00]\n",
            "\n"
          ]
        }
      ]
    },
    {
      "cell_type": "markdown",
      "source": [
        "## Otomotif"
      ],
      "metadata": {
        "id": "9rloKNfQUSa8"
      }
    },
    {
      "cell_type": "code",
      "source": [
        "x13 = x[x['Kategori_Otomotif'] == 1]\n",
        "y13 = y[x['Kategori_Otomotif'] == 1]\n",
        "\n",
        "print(\"Shape of x_filtered:\", x13.shape)\n",
        "print(\"Shape of y_filtered:\", y13.shape)\n",
        "\n",
        "\n",
        "best_model.fit(x13, y13)\n",
        "\n",
        "# Extract rules\n",
        "tree_rules = export_text(best_model, feature_names=list(x13))\n",
        "\n",
        "# Print rules\n",
        "print(\"Decision Tree Rules (Max Depth 3):\")\n",
        "print(tree_rules)"
      ],
      "metadata": {
        "colab": {
          "base_uri": "https://localhost:8080/"
        },
        "id": "0wWPBMdOXCv-",
        "outputId": "3174f806-3282-4c62-da0d-80a589e5b840"
      },
      "execution_count": null,
      "outputs": [
        {
          "output_type": "stream",
          "name": "stdout",
          "text": [
            "Shape of x_filtered: (39, 29)\n",
            "Shape of y_filtered: (39,)\n",
            "Decision Tree Rules (Max Depth 3):\n",
            "|--- promo_gratis_ongkir <= 0.50\n",
            "|   |--- price <= 482500.00\n",
            "|   |   |--- media_foto <= 1.50\n",
            "|   |   |   |--- value: [250.00]\n",
            "|   |   |--- media_foto >  1.50\n",
            "|   |   |   |--- value: [61.52]\n",
            "|   |--- price >  482500.00\n",
            "|   |   |--- value: [5.00]\n",
            "|--- promo_gratis_ongkir >  0.50\n",
            "|   |--- value: [1000.00]\n",
            "\n"
          ]
        }
      ]
    },
    {
      "cell_type": "markdown",
      "source": [
        "## Pakaian Olahraga"
      ],
      "metadata": {
        "id": "inLyDVc8UUHt"
      }
    },
    {
      "cell_type": "code",
      "source": [
        "x14 = x[x['Kategori_Pakaian Olahraga'] == 1]\n",
        "y14 = y[x['Kategori_Pakaian Olahraga'] == 1]\n",
        "\n",
        "print(\"Shape of x_filtered:\", x14.shape)\n",
        "print(\"Shape of y_filtered:\", y14.shape)\n",
        "\n",
        "\n",
        "best_model.fit(x14, y14)\n",
        "\n",
        "# Extract rules\n",
        "tree_rules = export_text(best_model, feature_names=list(x14))\n",
        "\n",
        "# Print rules\n",
        "print(\"Decision Tree Rules (Max Depth 3):\")\n",
        "print(tree_rules)"
      ],
      "metadata": {
        "colab": {
          "base_uri": "https://localhost:8080/"
        },
        "id": "UEImR-mFXOlK",
        "outputId": "e0c87397-9956-4454-9e51-86149bc14acd"
      },
      "execution_count": null,
      "outputs": [
        {
          "output_type": "stream",
          "name": "stdout",
          "text": [
            "Shape of x_filtered: (41, 29)\n",
            "Shape of y_filtered: (41,)\n",
            "Decision Tree Rules (Max Depth 3):\n",
            "|--- stock <= 218.50\n",
            "|   |--- waktu_proses <= 5.50\n",
            "|   |   |--- jam_buka <= 8.50\n",
            "|   |   |   |--- value: [66.67]\n",
            "|   |   |--- jam_buka >  8.50\n",
            "|   |   |   |--- value: [613.64]\n",
            "|   |--- waktu_proses >  5.50\n",
            "|   |   |--- campaign <= 0.50\n",
            "|   |   |   |--- value: [108.33]\n",
            "|   |   |--- campaign >  0.50\n",
            "|   |   |   |--- value: [500.00]\n",
            "|--- stock >  218.50\n",
            "|   |--- value: [1000.00]\n",
            "\n"
          ]
        }
      ]
    },
    {
      "cell_type": "markdown",
      "source": [
        "## Perawatan Wajah"
      ],
      "metadata": {
        "id": "SybxXjcDUWFu"
      }
    },
    {
      "cell_type": "code",
      "source": [
        "x15 = x[x['Kategori_Perawatan Wajah'] == 1]\n",
        "y15 = y[x['Kategori_Perawatan Wajah'] == 1]\n",
        "\n",
        "print(\"Shape of x_filtered:\", x15.shape)\n",
        "print(\"Shape of y_filtered:\", y15.shape)\n",
        "\n",
        "\n",
        "best_model.fit(x15, y15)\n",
        "\n",
        "# Extract rules\n",
        "tree_rules = export_text(best_model, feature_names=list(x15))\n",
        "\n",
        "# Print rules\n",
        "print(\"Decision Tree Rules (Max Depth 3):\")\n",
        "print(tree_rules)"
      ],
      "metadata": {
        "colab": {
          "base_uri": "https://localhost:8080/"
        },
        "id": "Yt-Om_1wXO-2",
        "outputId": "1da20b6d-24e2-48ef-f5cb-80e2feee4468"
      },
      "execution_count": null,
      "outputs": [
        {
          "output_type": "stream",
          "name": "stdout",
          "text": [
            "Shape of x_filtered: (35, 29)\n",
            "Shape of y_filtered: (35,)\n",
            "Decision Tree Rules (Max Depth 3):\n",
            "|--- jam_tutup <= 17.50\n",
            "|   |--- stock <= 56.00\n",
            "|   |   |--- value: [500.00]\n",
            "|   |--- stock >  56.00\n",
            "|   |   |--- stock <= 675.00\n",
            "|   |   |   |--- value: [1000.00]\n",
            "|   |   |--- stock >  675.00\n",
            "|   |   |   |--- value: [750.00]\n",
            "|--- jam_tutup >  17.50\n",
            "|   |--- promo_gratis_ongkir <= 0.50\n",
            "|   |   |--- value: [250.00]\n",
            "|   |--- promo_gratis_ongkir >  0.50\n",
            "|   |   |--- value: [500.00]\n",
            "\n"
          ]
        }
      ]
    },
    {
      "cell_type": "markdown",
      "source": [
        "## Snack n Camilan"
      ],
      "metadata": {
        "id": "RONyMg8_UY3W"
      }
    },
    {
      "cell_type": "code",
      "source": [
        "x16 = x[x['Kategori_Snack & Camilan'] == 1]\n",
        "y16 = y[x['Kategori_Snack & Camilan'] == 1]\n",
        "\n",
        "print(\"Shape of x_filtered:\", x16.shape)\n",
        "print(\"Shape of y_filtered:\", y16.shape)\n",
        "\n",
        "\n",
        "best_model.fit(x16, y16)\n",
        "\n",
        "# Extract rules\n",
        "tree_rules = export_text(best_model, feature_names=list(x16))\n",
        "\n",
        "# Print rules\n",
        "print(\"Decision Tree Rules (Max Depth 3):\")\n",
        "print(tree_rules)"
      ],
      "metadata": {
        "colab": {
          "base_uri": "https://localhost:8080/"
        },
        "id": "AJUGl9ipXPij",
        "outputId": "7c64f016-158e-49e3-951d-ca02eb12f6ec"
      },
      "execution_count": null,
      "outputs": [
        {
          "output_type": "stream",
          "name": "stdout",
          "text": [
            "Shape of x_filtered: (47, 29)\n",
            "Shape of y_filtered: (47,)\n",
            "Decision Tree Rules (Max Depth 3):\n",
            "|--- media_foto <= 3.50\n",
            "|   |--- original_price <= 10965.00\n",
            "|   |   |--- value: [500.00]\n",
            "|   |--- original_price >  10965.00\n",
            "|   |   |--- campaign <= 0.50\n",
            "|   |   |   |--- value: [235.00]\n",
            "|   |   |--- campaign >  0.50\n",
            "|   |   |   |--- value: [500.00]\n",
            "|--- media_foto >  3.50\n",
            "|   |--- original_price <= 30525.00\n",
            "|   |   |--- media_foto <= 5.50\n",
            "|   |   |   |--- value: [1000.00]\n",
            "|   |   |--- media_foto >  5.50\n",
            "|   |   |   |--- value: [750.00]\n",
            "|   |--- original_price >  30525.00\n",
            "|   |   |--- value: [100.00]\n",
            "\n"
          ]
        }
      ]
    },
    {
      "cell_type": "code",
      "source": [],
      "metadata": {
        "id": "dv-pZaCKOfKQ"
      },
      "execution_count": null,
      "outputs": []
    }
  ],
  "metadata": {
    "colab": {
      "provenance": []
    },
    "kernelspec": {
      "display_name": "Python 3",
      "name": "python3"
    },
    "language_info": {
      "name": "python"
    }
  },
  "nbformat": 4,
  "nbformat_minor": 0
}